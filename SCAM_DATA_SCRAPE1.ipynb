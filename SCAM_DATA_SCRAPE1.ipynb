{
  "nbformat": 4,
  "nbformat_minor": 0,
  "metadata": {
    "colab": {
      "provenance": [],
      "gpuType": "T4",
      "toc_visible": true,
      "include_colab_link": true
    },
    "kernelspec": {
      "name": "python3",
      "display_name": "Python 3"
    },
    "language_info": {
      "name": "python"
    },
    "accelerator": "GPU"
  },
  "cells": [
    {
      "cell_type": "markdown",
      "metadata": {
        "id": "view-in-github",
        "colab_type": "text"
      },
      "source": [
        "<a href=\"https://colab.research.google.com/github/Hatim-07/covid-detection-project/blob/main/SCAM_DATA_SCRAPE1.ipynb\" target=\"_parent\"><img src=\"https://colab.research.google.com/assets/colab-badge.svg\" alt=\"Open In Colab\"/></a>"
      ]
    },
    {
      "cell_type": "markdown",
      "source": [
        "#Data Preparation"
      ],
      "metadata": {
        "id": "IeFu6whJgiQl"
      }
    },
    {
      "cell_type": "code",
      "execution_count": null,
      "metadata": {
        "id": "C_twAeTsQ4Ti",
        "colab": {
          "base_uri": "https://localhost:8080/"
        },
        "outputId": "207000df-24d4-4f77-e612-f4f29f8f20e3",
        "collapsed": true
      },
      "outputs": [
        {
          "output_type": "stream",
          "name": "stdout",
          "text": [
            "Collecting praw\n",
            "  Downloading praw-7.8.1-py3-none-any.whl.metadata (9.4 kB)\n",
            "Collecting prawcore<3,>=2.4 (from praw)\n",
            "  Downloading prawcore-2.4.0-py3-none-any.whl.metadata (5.0 kB)\n",
            "Collecting update_checker>=0.18 (from praw)\n",
            "  Downloading update_checker-0.18.0-py3-none-any.whl.metadata (2.3 kB)\n",
            "Requirement already satisfied: websocket-client>=0.54.0 in /usr/local/lib/python3.10/dist-packages (from praw) (1.8.0)\n",
            "Requirement already satisfied: requests<3.0,>=2.6.0 in /usr/local/lib/python3.10/dist-packages (from prawcore<3,>=2.4->praw) (2.32.3)\n",
            "Requirement already satisfied: charset-normalizer<4,>=2 in /usr/local/lib/python3.10/dist-packages (from requests<3.0,>=2.6.0->prawcore<3,>=2.4->praw) (3.4.0)\n",
            "Requirement already satisfied: idna<4,>=2.5 in /usr/local/lib/python3.10/dist-packages (from requests<3.0,>=2.6.0->prawcore<3,>=2.4->praw) (3.10)\n",
            "Requirement already satisfied: urllib3<3,>=1.21.1 in /usr/local/lib/python3.10/dist-packages (from requests<3.0,>=2.6.0->prawcore<3,>=2.4->praw) (2.2.3)\n",
            "Requirement already satisfied: certifi>=2017.4.17 in /usr/local/lib/python3.10/dist-packages (from requests<3.0,>=2.6.0->prawcore<3,>=2.4->praw) (2024.12.14)\n",
            "Downloading praw-7.8.1-py3-none-any.whl (189 kB)\n",
            "\u001b[2K   \u001b[90m━━━━━━━━━━━━━━━━━━━━━━━━━━━━━━━━━━━━━━━━\u001b[0m \u001b[32m189.3/189.3 kB\u001b[0m \u001b[31m4.1 MB/s\u001b[0m eta \u001b[36m0:00:00\u001b[0m\n",
            "\u001b[?25hDownloading prawcore-2.4.0-py3-none-any.whl (17 kB)\n",
            "Downloading update_checker-0.18.0-py3-none-any.whl (7.0 kB)\n",
            "Installing collected packages: update_checker, prawcore, praw\n",
            "Successfully installed praw-7.8.1 prawcore-2.4.0 update_checker-0.18.0\n"
          ]
        }
      ],
      "source": [
        "!pip install praw"
      ]
    },
    {
      "cell_type": "code",
      "source": [
        "import matplotlib.pyplot as plt\n",
        "import seaborn as sns\n",
        "from sklearn.metrics import confusion_matrix, classification_report, roc_curve, auc"
      ],
      "metadata": {
        "id": "MoiG88hj8BKY"
      },
      "execution_count": null,
      "outputs": []
    },
    {
      "cell_type": "code",
      "source": [
        "import praw\n",
        "\n",
        "reddit = praw.Reddit(\n",
        "    client_id=\"MsXtMr2lzoPlcKs4mAGHlw\",  # Replace with your client ID\n",
        "    client_secret=\"eX9EjyIF32zLySG8a9ZLaOxPWy0Plg\",  # Replace with your client secret\n",
        "    user_agent=\"Just testing api\"  # A brief description of your app\n",
        ")\n",
        "\n",
        "# Test connection\n",
        "subreddit = reddit.subreddit(\"python\")\n",
        "for post in subreddit.hot(limit=5):\n",
        "    print(post.title)\n"
      ],
      "metadata": {
        "id": "LFHwh2gURBjI",
        "colab": {
          "base_uri": "https://localhost:8080/"
        },
        "outputId": "d7fd4bc8-40c6-4330-d0a3-a90359cf842e",
        "collapsed": true
      },
      "execution_count": null,
      "outputs": [
        {
          "output_type": "stream",
          "name": "stderr",
          "text": [
            "WARNING:praw:It appears that you are using PRAW in an asynchronous environment.\n",
            "It is strongly recommended to use Async PRAW: https://asyncpraw.readthedocs.io.\n",
            "See https://praw.readthedocs.io/en/latest/getting_started/multiple_instances.html#discord-bots-and-asynchronous-environments for more info.\n",
            "\n"
          ]
        },
        {
          "output_type": "stream",
          "name": "stdout",
          "text": [
            "Sunday Daily Thread: What's everyone working on this week?\n",
            "Friday Daily Thread: r/Python Meta and Free-Talk Fridays\n",
            "Made a self-hosted ebook2audiobook converter, supports voice cloning and 1107+ languages :)\n",
            "Flux: A beautiful flowfield visualization app.\n",
            "A lightweight Python wrapper for the Strava API that makes authentication painless\n",
            "\n"
          ]
        }
      ]
    },
    {
      "cell_type": "code",
      "source": [
        "'''import praw\n",
        "\n",
        "# Initialize the Reddit instance\n",
        "reddit = praw.Reddit(\n",
        "    client_id=\"bb\",       # Replace with  client ID\n",
        "    client_secret=\"sss\", # Replace with  client secret\n",
        "    user_agent=\"sirish\",     # Replace with user agent\n",
        ")'''"
      ],
      "metadata": {
        "colab": {
          "base_uri": "https://localhost:8080/",
          "height": 53
        },
        "id": "0qeOsRPdaaQ_",
        "outputId": "8a412c29-48a1-4825-8bea-d4f01e5c718d"
      },
      "execution_count": null,
      "outputs": [
        {
          "output_type": "execute_result",
          "data": {
            "text/plain": [
              "'import praw\\n\\n# Initialize the Reddit instance\\nreddit = praw.Reddit(\\n    client_id=\"bb\",       # Replace with  client ID\\n    client_secret=\"sss\", # Replace with  client secret\\n    user_agent=\"sirish\",     # Replace with user agent\\n)'"
            ],
            "application/vnd.google.colaboratory.intrinsic+json": {
              "type": "string"
            }
          },
          "metadata": {},
          "execution_count": 4
        }
      ]
    },
    {
      "cell_type": "code",
      "source": [
        "print(f\"Logged in as: {reddit.read_only}\")"
      ],
      "metadata": {
        "colab": {
          "base_uri": "https://localhost:8080/"
        },
        "id": "5-v7gOOVRBu0",
        "outputId": "0a60fb2a-a931-43d7-92df-ae3033cc64ab"
      },
      "execution_count": null,
      "outputs": [
        {
          "output_type": "stream",
          "name": "stdout",
          "text": [
            "Logged in as: True\n"
          ]
        }
      ]
    },
    {
      "cell_type": "code",
      "source": [
        "subreddit_name = \"Scams\"\n",
        "limit = 700\n",
        "\n",
        "# Fetch posts from the 'Scams' subreddit\n",
        "posts = []\n",
        "subreddit = reddit.subreddit(subreddit_name)"
      ],
      "metadata": {
        "id": "Eylxy4YCRBxo"
      },
      "execution_count": null,
      "outputs": []
    },
    {
      "cell_type": "code",
      "source": [
        "for submission in subreddit.hot(limit=limit):  # Can use 'new', 'top', etc.\n",
        "    posts.append({\n",
        "        \"title\": submission.title,\n",
        "        \"selftext\": submission.selftext,\n",
        "        \"score\": submission.score,\n",
        "        \"upvote_ratio\": submission.upvote_ratio,\n",
        "        \"num_comments\": submission.num_comments,\n",
        "        \"created_utc\": submission.created_utc,\n",
        "        \"url\": submission.url\n",
        "    })"
      ],
      "metadata": {
        "colab": {
          "base_uri": "https://localhost:8080/"
        },
        "id": "Lgbj3RTlRB23",
        "outputId": "6c053351-bed3-4645-95bf-365f8168bc67",
        "collapsed": true
      },
      "execution_count": null,
      "outputs": [
        {
          "output_type": "stream",
          "name": "stderr",
          "text": [
            "WARNING:praw:It appears that you are using PRAW in an asynchronous environment.\n",
            "It is strongly recommended to use Async PRAW: https://asyncpraw.readthedocs.io.\n",
            "See https://praw.readthedocs.io/en/latest/getting_started/multiple_instances.html#discord-bots-and-asynchronous-environments for more info.\n",
            "\n",
            "WARNING:praw:It appears that you are using PRAW in an asynchronous environment.\n",
            "It is strongly recommended to use Async PRAW: https://asyncpraw.readthedocs.io.\n",
            "See https://praw.readthedocs.io/en/latest/getting_started/multiple_instances.html#discord-bots-and-asynchronous-environments for more info.\n",
            "\n",
            "WARNING:praw:It appears that you are using PRAW in an asynchronous environment.\n",
            "It is strongly recommended to use Async PRAW: https://asyncpraw.readthedocs.io.\n",
            "See https://praw.readthedocs.io/en/latest/getting_started/multiple_instances.html#discord-bots-and-asynchronous-environments for more info.\n",
            "\n",
            "WARNING:praw:It appears that you are using PRAW in an asynchronous environment.\n",
            "It is strongly recommended to use Async PRAW: https://asyncpraw.readthedocs.io.\n",
            "See https://praw.readthedocs.io/en/latest/getting_started/multiple_instances.html#discord-bots-and-asynchronous-environments for more info.\n",
            "\n",
            "WARNING:praw:It appears that you are using PRAW in an asynchronous environment.\n",
            "It is strongly recommended to use Async PRAW: https://asyncpraw.readthedocs.io.\n",
            "See https://praw.readthedocs.io/en/latest/getting_started/multiple_instances.html#discord-bots-and-asynchronous-environments for more info.\n",
            "\n",
            "WARNING:praw:It appears that you are using PRAW in an asynchronous environment.\n",
            "It is strongly recommended to use Async PRAW: https://asyncpraw.readthedocs.io.\n",
            "See https://praw.readthedocs.io/en/latest/getting_started/multiple_instances.html#discord-bots-and-asynchronous-environments for more info.\n",
            "\n"
          ]
        }
      ]
    },
    {
      "cell_type": "code",
      "source": [
        "import pandas as pd\n",
        "import re"
      ],
      "metadata": {
        "id": "3y5sMa3qRB5v"
      },
      "execution_count": null,
      "outputs": []
    },
    {
      "cell_type": "code",
      "source": [
        "df = pd.DataFrame(posts)"
      ],
      "metadata": {
        "id": "xAdbusa6RB8f"
      },
      "execution_count": null,
      "outputs": []
    },
    {
      "cell_type": "code",
      "source": [
        "df.head(10)"
      ],
      "metadata": {
        "colab": {
          "base_uri": "https://localhost:8080/",
          "height": 866
        },
        "id": "HnbMthRcRB_C",
        "outputId": "bf2d2b21-cdff-4beb-a3ea-6ac304371a83"
      },
      "execution_count": null,
      "outputs": [
        {
          "output_type": "execute_result",
          "data": {
            "text/plain": [
              "                                               title  \\\n",
              "0   Scammed by iq-institute org - fraudulent company   \n",
              "1                          Scammed by Jacob Levinrad   \n",
              "2                   Loss of trust in wife after scam   \n",
              "3  My mom think a job offer is a scam trying to s...   \n",
              "4  Update to my old post, I disputed the scam and...   \n",
              "5                           Lost and Found Pet Scam!   \n",
              "6  I need help please currently being a victim of...   \n",
              "7                     \"Medicare\" Phone Scam 12/26/24   \n",
              "8               Dangerous Stem Cell Frauds in Mexico   \n",
              "9  Brand new Amazon gift cards have been scratche...   \n",
              "\n",
              "                                            selftext  score  upvote_ratio  \\\n",
              "0  I was scammed by IQ Institute \\[org\\]. They ke...   2216          0.93   \n",
              "1  Bought into the $4800 course and was expecting...     51          0.78   \n",
              "2  My wife got scammed.  Two days before Christma...    607          0.91   \n",
              "3  When I check my messages a customer service re...    233          0.76   \n",
              "4  My old post below, and the link to it.  \\n[htt...     36          0.85   \n",
              "5  WARNING!! Lost pet SCAM to be aware of!!\\n\\nI ...      7          1.00   \n",
              "6  Hello everyone, I am currently being scammed b...    113          0.73   \n",
              "7  My mother is elderly and the ringer on her iPh...     63          0.90   \n",
              "8  I don’t know how desperate you are to find a s...     13          0.86   \n",
              "9  Sorry if the formatting is bad I’m typing this...    957          0.97   \n",
              "\n",
              "   num_comments   created_utc  \\\n",
              "0           199  1.734604e+09   \n",
              "1            85  1.713824e+09   \n",
              "2           364  1.735234e+09   \n",
              "3           375  1.735243e+09   \n",
              "4            14  1.735257e+09   \n",
              "5             2  1.735286e+09   \n",
              "6           294  1.735228e+09   \n",
              "7            13  1.735236e+09   \n",
              "8             4  1.735265e+09   \n",
              "9           231  1.735181e+09   \n",
              "\n",
              "                                                 url  \n",
              "0  https://www.reddit.com/r/Scams/comments/1hhq2d...  \n",
              "1  https://www.reddit.com/r/Scams/comments/1canxs...  \n",
              "2  https://www.reddit.com/r/Scams/comments/1hmt04...  \n",
              "3  https://www.reddit.com/r/Scams/comments/1hmwhv...  \n",
              "4  https://www.reddit.com/r/Scams/comments/1hn1q4...  \n",
              "5  https://www.reddit.com/r/Scams/comments/1hna4h...  \n",
              "6             https://www.reddit.com/gallery/1hmqzky  \n",
              "7  https://www.reddit.com/r/Scams/comments/1hmtsv...  \n",
              "8  https://www.reddit.com/r/Scams/comments/1hn48y...  \n",
              "9               https://i.redd.it/mcuov75mw39e1.jpeg  "
            ],
            "text/html": [
              "\n",
              "  <div id=\"df-d2c81747-a3dc-4d18-977b-c6b6ab7788f5\" class=\"colab-df-container\">\n",
              "    <div>\n",
              "<style scoped>\n",
              "    .dataframe tbody tr th:only-of-type {\n",
              "        vertical-align: middle;\n",
              "    }\n",
              "\n",
              "    .dataframe tbody tr th {\n",
              "        vertical-align: top;\n",
              "    }\n",
              "\n",
              "    .dataframe thead th {\n",
              "        text-align: right;\n",
              "    }\n",
              "</style>\n",
              "<table border=\"1\" class=\"dataframe\">\n",
              "  <thead>\n",
              "    <tr style=\"text-align: right;\">\n",
              "      <th></th>\n",
              "      <th>title</th>\n",
              "      <th>selftext</th>\n",
              "      <th>score</th>\n",
              "      <th>upvote_ratio</th>\n",
              "      <th>num_comments</th>\n",
              "      <th>created_utc</th>\n",
              "      <th>url</th>\n",
              "    </tr>\n",
              "  </thead>\n",
              "  <tbody>\n",
              "    <tr>\n",
              "      <th>0</th>\n",
              "      <td>Scammed by iq-institute org - fraudulent company</td>\n",
              "      <td>I was scammed by IQ Institute \\[org\\]. They ke...</td>\n",
              "      <td>2216</td>\n",
              "      <td>0.93</td>\n",
              "      <td>199</td>\n",
              "      <td>1.734604e+09</td>\n",
              "      <td>https://www.reddit.com/r/Scams/comments/1hhq2d...</td>\n",
              "    </tr>\n",
              "    <tr>\n",
              "      <th>1</th>\n",
              "      <td>Scammed by Jacob Levinrad</td>\n",
              "      <td>Bought into the $4800 course and was expecting...</td>\n",
              "      <td>51</td>\n",
              "      <td>0.78</td>\n",
              "      <td>85</td>\n",
              "      <td>1.713824e+09</td>\n",
              "      <td>https://www.reddit.com/r/Scams/comments/1canxs...</td>\n",
              "    </tr>\n",
              "    <tr>\n",
              "      <th>2</th>\n",
              "      <td>Loss of trust in wife after scam</td>\n",
              "      <td>My wife got scammed.  Two days before Christma...</td>\n",
              "      <td>607</td>\n",
              "      <td>0.91</td>\n",
              "      <td>364</td>\n",
              "      <td>1.735234e+09</td>\n",
              "      <td>https://www.reddit.com/r/Scams/comments/1hmt04...</td>\n",
              "    </tr>\n",
              "    <tr>\n",
              "      <th>3</th>\n",
              "      <td>My mom think a job offer is a scam trying to s...</td>\n",
              "      <td>When I check my messages a customer service re...</td>\n",
              "      <td>233</td>\n",
              "      <td>0.76</td>\n",
              "      <td>375</td>\n",
              "      <td>1.735243e+09</td>\n",
              "      <td>https://www.reddit.com/r/Scams/comments/1hmwhv...</td>\n",
              "    </tr>\n",
              "    <tr>\n",
              "      <th>4</th>\n",
              "      <td>Update to my old post, I disputed the scam and...</td>\n",
              "      <td>My old post below, and the link to it.  \\n[htt...</td>\n",
              "      <td>36</td>\n",
              "      <td>0.85</td>\n",
              "      <td>14</td>\n",
              "      <td>1.735257e+09</td>\n",
              "      <td>https://www.reddit.com/r/Scams/comments/1hn1q4...</td>\n",
              "    </tr>\n",
              "    <tr>\n",
              "      <th>5</th>\n",
              "      <td>Lost and Found Pet Scam!</td>\n",
              "      <td>WARNING!! Lost pet SCAM to be aware of!!\\n\\nI ...</td>\n",
              "      <td>7</td>\n",
              "      <td>1.00</td>\n",
              "      <td>2</td>\n",
              "      <td>1.735286e+09</td>\n",
              "      <td>https://www.reddit.com/r/Scams/comments/1hna4h...</td>\n",
              "    </tr>\n",
              "    <tr>\n",
              "      <th>6</th>\n",
              "      <td>I need help please currently being a victim of...</td>\n",
              "      <td>Hello everyone, I am currently being scammed b...</td>\n",
              "      <td>113</td>\n",
              "      <td>0.73</td>\n",
              "      <td>294</td>\n",
              "      <td>1.735228e+09</td>\n",
              "      <td>https://www.reddit.com/gallery/1hmqzky</td>\n",
              "    </tr>\n",
              "    <tr>\n",
              "      <th>7</th>\n",
              "      <td>\"Medicare\" Phone Scam 12/26/24</td>\n",
              "      <td>My mother is elderly and the ringer on her iPh...</td>\n",
              "      <td>63</td>\n",
              "      <td>0.90</td>\n",
              "      <td>13</td>\n",
              "      <td>1.735236e+09</td>\n",
              "      <td>https://www.reddit.com/r/Scams/comments/1hmtsv...</td>\n",
              "    </tr>\n",
              "    <tr>\n",
              "      <th>8</th>\n",
              "      <td>Dangerous Stem Cell Frauds in Mexico</td>\n",
              "      <td>I don’t know how desperate you are to find a s...</td>\n",
              "      <td>13</td>\n",
              "      <td>0.86</td>\n",
              "      <td>4</td>\n",
              "      <td>1.735265e+09</td>\n",
              "      <td>https://www.reddit.com/r/Scams/comments/1hn48y...</td>\n",
              "    </tr>\n",
              "    <tr>\n",
              "      <th>9</th>\n",
              "      <td>Brand new Amazon gift cards have been scratche...</td>\n",
              "      <td>Sorry if the formatting is bad I’m typing this...</td>\n",
              "      <td>957</td>\n",
              "      <td>0.97</td>\n",
              "      <td>231</td>\n",
              "      <td>1.735181e+09</td>\n",
              "      <td>https://i.redd.it/mcuov75mw39e1.jpeg</td>\n",
              "    </tr>\n",
              "  </tbody>\n",
              "</table>\n",
              "</div>\n",
              "    <div class=\"colab-df-buttons\">\n",
              "\n",
              "  <div class=\"colab-df-container\">\n",
              "    <button class=\"colab-df-convert\" onclick=\"convertToInteractive('df-d2c81747-a3dc-4d18-977b-c6b6ab7788f5')\"\n",
              "            title=\"Convert this dataframe to an interactive table.\"\n",
              "            style=\"display:none;\">\n",
              "\n",
              "  <svg xmlns=\"http://www.w3.org/2000/svg\" height=\"24px\" viewBox=\"0 -960 960 960\">\n",
              "    <path d=\"M120-120v-720h720v720H120Zm60-500h600v-160H180v160Zm220 220h160v-160H400v160Zm0 220h160v-160H400v160ZM180-400h160v-160H180v160Zm440 0h160v-160H620v160ZM180-180h160v-160H180v160Zm440 0h160v-160H620v160Z\"/>\n",
              "  </svg>\n",
              "    </button>\n",
              "\n",
              "  <style>\n",
              "    .colab-df-container {\n",
              "      display:flex;\n",
              "      gap: 12px;\n",
              "    }\n",
              "\n",
              "    .colab-df-convert {\n",
              "      background-color: #E8F0FE;\n",
              "      border: none;\n",
              "      border-radius: 50%;\n",
              "      cursor: pointer;\n",
              "      display: none;\n",
              "      fill: #1967D2;\n",
              "      height: 32px;\n",
              "      padding: 0 0 0 0;\n",
              "      width: 32px;\n",
              "    }\n",
              "\n",
              "    .colab-df-convert:hover {\n",
              "      background-color: #E2EBFA;\n",
              "      box-shadow: 0px 1px 2px rgba(60, 64, 67, 0.3), 0px 1px 3px 1px rgba(60, 64, 67, 0.15);\n",
              "      fill: #174EA6;\n",
              "    }\n",
              "\n",
              "    .colab-df-buttons div {\n",
              "      margin-bottom: 4px;\n",
              "    }\n",
              "\n",
              "    [theme=dark] .colab-df-convert {\n",
              "      background-color: #3B4455;\n",
              "      fill: #D2E3FC;\n",
              "    }\n",
              "\n",
              "    [theme=dark] .colab-df-convert:hover {\n",
              "      background-color: #434B5C;\n",
              "      box-shadow: 0px 1px 3px 1px rgba(0, 0, 0, 0.15);\n",
              "      filter: drop-shadow(0px 1px 2px rgba(0, 0, 0, 0.3));\n",
              "      fill: #FFFFFF;\n",
              "    }\n",
              "  </style>\n",
              "\n",
              "    <script>\n",
              "      const buttonEl =\n",
              "        document.querySelector('#df-d2c81747-a3dc-4d18-977b-c6b6ab7788f5 button.colab-df-convert');\n",
              "      buttonEl.style.display =\n",
              "        google.colab.kernel.accessAllowed ? 'block' : 'none';\n",
              "\n",
              "      async function convertToInteractive(key) {\n",
              "        const element = document.querySelector('#df-d2c81747-a3dc-4d18-977b-c6b6ab7788f5');\n",
              "        const dataTable =\n",
              "          await google.colab.kernel.invokeFunction('convertToInteractive',\n",
              "                                                    [key], {});\n",
              "        if (!dataTable) return;\n",
              "\n",
              "        const docLinkHtml = 'Like what you see? Visit the ' +\n",
              "          '<a target=\"_blank\" href=https://colab.research.google.com/notebooks/data_table.ipynb>data table notebook</a>'\n",
              "          + ' to learn more about interactive tables.';\n",
              "        element.innerHTML = '';\n",
              "        dataTable['output_type'] = 'display_data';\n",
              "        await google.colab.output.renderOutput(dataTable, element);\n",
              "        const docLink = document.createElement('div');\n",
              "        docLink.innerHTML = docLinkHtml;\n",
              "        element.appendChild(docLink);\n",
              "      }\n",
              "    </script>\n",
              "  </div>\n",
              "\n",
              "\n",
              "<div id=\"df-55e776cd-87fd-4375-b02c-1875c40eca01\">\n",
              "  <button class=\"colab-df-quickchart\" onclick=\"quickchart('df-55e776cd-87fd-4375-b02c-1875c40eca01')\"\n",
              "            title=\"Suggest charts\"\n",
              "            style=\"display:none;\">\n",
              "\n",
              "<svg xmlns=\"http://www.w3.org/2000/svg\" height=\"24px\"viewBox=\"0 0 24 24\"\n",
              "     width=\"24px\">\n",
              "    <g>\n",
              "        <path d=\"M19 3H5c-1.1 0-2 .9-2 2v14c0 1.1.9 2 2 2h14c1.1 0 2-.9 2-2V5c0-1.1-.9-2-2-2zM9 17H7v-7h2v7zm4 0h-2V7h2v10zm4 0h-2v-4h2v4z\"/>\n",
              "    </g>\n",
              "</svg>\n",
              "  </button>\n",
              "\n",
              "<style>\n",
              "  .colab-df-quickchart {\n",
              "      --bg-color: #E8F0FE;\n",
              "      --fill-color: #1967D2;\n",
              "      --hover-bg-color: #E2EBFA;\n",
              "      --hover-fill-color: #174EA6;\n",
              "      --disabled-fill-color: #AAA;\n",
              "      --disabled-bg-color: #DDD;\n",
              "  }\n",
              "\n",
              "  [theme=dark] .colab-df-quickchart {\n",
              "      --bg-color: #3B4455;\n",
              "      --fill-color: #D2E3FC;\n",
              "      --hover-bg-color: #434B5C;\n",
              "      --hover-fill-color: #FFFFFF;\n",
              "      --disabled-bg-color: #3B4455;\n",
              "      --disabled-fill-color: #666;\n",
              "  }\n",
              "\n",
              "  .colab-df-quickchart {\n",
              "    background-color: var(--bg-color);\n",
              "    border: none;\n",
              "    border-radius: 50%;\n",
              "    cursor: pointer;\n",
              "    display: none;\n",
              "    fill: var(--fill-color);\n",
              "    height: 32px;\n",
              "    padding: 0;\n",
              "    width: 32px;\n",
              "  }\n",
              "\n",
              "  .colab-df-quickchart:hover {\n",
              "    background-color: var(--hover-bg-color);\n",
              "    box-shadow: 0 1px 2px rgba(60, 64, 67, 0.3), 0 1px 3px 1px rgba(60, 64, 67, 0.15);\n",
              "    fill: var(--button-hover-fill-color);\n",
              "  }\n",
              "\n",
              "  .colab-df-quickchart-complete:disabled,\n",
              "  .colab-df-quickchart-complete:disabled:hover {\n",
              "    background-color: var(--disabled-bg-color);\n",
              "    fill: var(--disabled-fill-color);\n",
              "    box-shadow: none;\n",
              "  }\n",
              "\n",
              "  .colab-df-spinner {\n",
              "    border: 2px solid var(--fill-color);\n",
              "    border-color: transparent;\n",
              "    border-bottom-color: var(--fill-color);\n",
              "    animation:\n",
              "      spin 1s steps(1) infinite;\n",
              "  }\n",
              "\n",
              "  @keyframes spin {\n",
              "    0% {\n",
              "      border-color: transparent;\n",
              "      border-bottom-color: var(--fill-color);\n",
              "      border-left-color: var(--fill-color);\n",
              "    }\n",
              "    20% {\n",
              "      border-color: transparent;\n",
              "      border-left-color: var(--fill-color);\n",
              "      border-top-color: var(--fill-color);\n",
              "    }\n",
              "    30% {\n",
              "      border-color: transparent;\n",
              "      border-left-color: var(--fill-color);\n",
              "      border-top-color: var(--fill-color);\n",
              "      border-right-color: var(--fill-color);\n",
              "    }\n",
              "    40% {\n",
              "      border-color: transparent;\n",
              "      border-right-color: var(--fill-color);\n",
              "      border-top-color: var(--fill-color);\n",
              "    }\n",
              "    60% {\n",
              "      border-color: transparent;\n",
              "      border-right-color: var(--fill-color);\n",
              "    }\n",
              "    80% {\n",
              "      border-color: transparent;\n",
              "      border-right-color: var(--fill-color);\n",
              "      border-bottom-color: var(--fill-color);\n",
              "    }\n",
              "    90% {\n",
              "      border-color: transparent;\n",
              "      border-bottom-color: var(--fill-color);\n",
              "    }\n",
              "  }\n",
              "</style>\n",
              "\n",
              "  <script>\n",
              "    async function quickchart(key) {\n",
              "      const quickchartButtonEl =\n",
              "        document.querySelector('#' + key + ' button');\n",
              "      quickchartButtonEl.disabled = true;  // To prevent multiple clicks.\n",
              "      quickchartButtonEl.classList.add('colab-df-spinner');\n",
              "      try {\n",
              "        const charts = await google.colab.kernel.invokeFunction(\n",
              "            'suggestCharts', [key], {});\n",
              "      } catch (error) {\n",
              "        console.error('Error during call to suggestCharts:', error);\n",
              "      }\n",
              "      quickchartButtonEl.classList.remove('colab-df-spinner');\n",
              "      quickchartButtonEl.classList.add('colab-df-quickchart-complete');\n",
              "    }\n",
              "    (() => {\n",
              "      let quickchartButtonEl =\n",
              "        document.querySelector('#df-55e776cd-87fd-4375-b02c-1875c40eca01 button');\n",
              "      quickchartButtonEl.style.display =\n",
              "        google.colab.kernel.accessAllowed ? 'block' : 'none';\n",
              "    })();\n",
              "  </script>\n",
              "</div>\n",
              "\n",
              "    </div>\n",
              "  </div>\n"
            ],
            "application/vnd.google.colaboratory.intrinsic+json": {
              "type": "dataframe",
              "variable_name": "df",
              "summary": "{\n  \"name\": \"df\",\n  \"rows\": 558,\n  \"fields\": [\n    {\n      \"column\": \"title\",\n      \"properties\": {\n        \"dtype\": \"string\",\n        \"num_unique_values\": 556,\n        \"samples\": [\n          \"Has anyone experienced a scam with Fintel Values? (www.fintelvalues.com)\",\n          \"Should I be concerned of a email sent to me but addressed to my wife?\",\n          \"Fake Job  \\u2013 FatJoe. Scam\"\n        ],\n        \"semantic_type\": \"\",\n        \"description\": \"\"\n      }\n    },\n    {\n      \"column\": \"selftext\",\n      \"properties\": {\n        \"dtype\": \"string\",\n        \"num_unique_values\": 557,\n        \"samples\": [\n          \"I received two phone calls and one voicemail message from the same number. The VM message stated the call was from \\\"Wells Fargo\\\". When I called, I was prompted several times to enter my account number. I have no Wells Fargo account. While I was on hold, I was informed the call was being recorded in that Wells Fargo was attempting \\\"to collect a debt\\\". I was connected with \\\"Joey\\\". Joey asked for my first and last name and account number. \\\"Joey\\\" refused to give me his last name. FYI: There was a prior Reddit post from 2 years back regarding the same scam.\",\n          \"i was streaming on twitch with nobody in the chatroom when he suddenly joins follows and sends a request for me to friend him on discord . he goes on to say that hes been enjoying my content on twitch but on the day he joined it was my first official stream. im a bit suspicous especially becuase he wants to recommend me someone who will help grow my twitch channel and ive heard of scams that target up and coming creators.\",\n          \"Hi everyone,\\n\\nI wanted to share my story about a cryptocurrency-related scam to help others avoid falling for the same trap.\\n\\n  \\n\\n\\nI received an unsolicited  message offering a remote job. The person claimed my contact details were sourced from platforms like Indeed or Glassdoor. The job seemed simple\\u2014completing app reviews and depositing cryptocurrency into a \\u201cwork account\\u201d to earn commissions.\\n\\n  \\n\\n\\nFor the first three days, the system worked perfectly\\u2014I deposited money by crypto transaction, completed tasks, and withdrew both my deposits and commissions. This built my confidence. On the fourth day, however, they demanded a significantly higher deposit, claiming it was necessary to \\u201cfinalize the tasks.\\u201d\\n\\n  \\n\\n\\nWhen I refused, they locked my account and stopped responding unless I sent more money. I lost $10,000 in total.\\n\\n  \\n\\n\\nI have documented all transactions, communication logs, and wallet addresses involved. If anyone has faced something similar or knows steps to recover funds, please share. Let\\u2019s spread awareness to prevent others from falling victim to this scam!\\n\\n\"\n        ],\n        \"semantic_type\": \"\",\n        \"description\": \"\"\n      }\n    },\n    {\n      \"column\": \"score\",\n      \"properties\": {\n        \"dtype\": \"number\",\n        \"std\": 148,\n        \"min\": 0,\n        \"max\": 2216,\n        \"num_unique_values\": 78,\n        \"samples\": [\n          66,\n          2216,\n          517\n        ],\n        \"semantic_type\": \"\",\n        \"description\": \"\"\n      }\n    },\n    {\n      \"column\": \"upvote_ratio\",\n      \"properties\": {\n        \"dtype\": \"number\",\n        \"std\": 0.1976440551234137,\n        \"min\": 0.15,\n        \"max\": 1.0,\n        \"num_unique_values\": 75,\n        \"samples\": [\n          0.85,\n          0.64,\n          0.7\n        ],\n        \"semantic_type\": \"\",\n        \"description\": \"\"\n      }\n    },\n    {\n      \"column\": \"num_comments\",\n      \"properties\": {\n        \"dtype\": \"number\",\n        \"std\": 39,\n        \"min\": 1,\n        \"max\": 375,\n        \"num_unique_values\": 85,\n        \"samples\": [\n          98,\n          199,\n          103\n        ],\n        \"semantic_type\": \"\",\n        \"description\": \"\"\n      }\n    },\n    {\n      \"column\": \"created_utc\",\n      \"properties\": {\n        \"dtype\": \"number\",\n        \"std\": 915242.946150349,\n        \"min\": 1713824427.0,\n        \"max\": 1735290884.0,\n        \"num_unique_values\": 558,\n        \"samples\": [\n          1735083541.0,\n          1734802813.0,\n          1735254739.0\n        ],\n        \"semantic_type\": \"\",\n        \"description\": \"\"\n      }\n    },\n    {\n      \"column\": \"url\",\n      \"properties\": {\n        \"dtype\": \"string\",\n        \"num_unique_values\": 558,\n        \"samples\": [\n          \"https://www.reddit.com/r/Scams/comments/1hlp9zi/am_i_getting_scam/\",\n          \"https://www.reddit.com/r/Scams/comments/1hjeug2/i_think_this_guy_on_discord_might_be_tryna_scam_me/\",\n          \"https://www.reddit.com/r/Scams/comments/1hn0rvd/fake_job_fatjoe_scam/\"\n        ],\n        \"semantic_type\": \"\",\n        \"description\": \"\"\n      }\n    }\n  ]\n}"
            }
          },
          "metadata": {},
          "execution_count": 10
        }
      ]
    },
    {
      "cell_type": "code",
      "source": [
        "df.shape"
      ],
      "metadata": {
        "colab": {
          "base_uri": "https://localhost:8080/"
        },
        "id": "-fyVVY1_92pE",
        "outputId": "a40ae8f2-93a8-4cd1-c3c7-98d525673387"
      },
      "execution_count": null,
      "outputs": [
        {
          "output_type": "execute_result",
          "data": {
            "text/plain": [
              "(558, 7)"
            ]
          },
          "metadata": {},
          "execution_count": 11
        }
      ]
    },
    {
      "cell_type": "markdown",
      "source": [
        "#Data **Cleaning**"
      ],
      "metadata": {
        "id": "QtvW648sZPf_"
      }
    },
    {
      "cell_type": "code",
      "source": [
        "df.duplicated().sum()"
      ],
      "metadata": {
        "id": "AW4p0Q0wbtvE",
        "colab": {
          "base_uri": "https://localhost:8080/"
        },
        "outputId": "a4af8999-ae79-4bfa-c65f-f8dcf705d465"
      },
      "execution_count": null,
      "outputs": [
        {
          "output_type": "execute_result",
          "data": {
            "text/plain": [
              "0"
            ]
          },
          "metadata": {},
          "execution_count": 12
        }
      ]
    },
    {
      "cell_type": "code",
      "source": [
        "# Remove posts with missing text\n",
        "df = df[df[\"selftext\"].str.strip().astype(bool)]"
      ],
      "metadata": {
        "id": "T8uDdxpc-23I"
      },
      "execution_count": null,
      "outputs": []
    },
    {
      "cell_type": "code",
      "source": [
        "df.shape"
      ],
      "metadata": {
        "colab": {
          "base_uri": "https://localhost:8080/"
        },
        "id": "MtCkEgFyhhT2",
        "outputId": "15c90d10-905b-43ff-f867-79004627ab75"
      },
      "execution_count": null,
      "outputs": [
        {
          "output_type": "execute_result",
          "data": {
            "text/plain": [
              "(558, 7)"
            ]
          },
          "metadata": {},
          "execution_count": 14
        }
      ]
    },
    {
      "cell_type": "code",
      "source": [
        "df.head(10)"
      ],
      "metadata": {
        "colab": {
          "base_uri": "https://localhost:8080/",
          "height": 866
        },
        "id": "-UzScxQUcXUW",
        "outputId": "71f46180-a487-4f25-a060-f43150fe4c1d"
      },
      "execution_count": null,
      "outputs": [
        {
          "output_type": "execute_result",
          "data": {
            "text/plain": [
              "                                               title  \\\n",
              "0   Scammed by iq-institute org - fraudulent company   \n",
              "1                          Scammed by Jacob Levinrad   \n",
              "2                   Loss of trust in wife after scam   \n",
              "3  My mom think a job offer is a scam trying to s...   \n",
              "4  Update to my old post, I disputed the scam and...   \n",
              "5                           Lost and Found Pet Scam!   \n",
              "6  I need help please currently being a victim of...   \n",
              "7                     \"Medicare\" Phone Scam 12/26/24   \n",
              "8               Dangerous Stem Cell Frauds in Mexico   \n",
              "9  Brand new Amazon gift cards have been scratche...   \n",
              "\n",
              "                                            selftext  score  upvote_ratio  \\\n",
              "0  I was scammed by IQ Institute \\[org\\]. They ke...   2216          0.93   \n",
              "1  Bought into the $4800 course and was expecting...     51          0.78   \n",
              "2  My wife got scammed.  Two days before Christma...    607          0.91   \n",
              "3  When I check my messages a customer service re...    233          0.76   \n",
              "4  My old post below, and the link to it.  \\n[htt...     36          0.85   \n",
              "5  WARNING!! Lost pet SCAM to be aware of!!\\n\\nI ...      7          1.00   \n",
              "6  Hello everyone, I am currently being scammed b...    113          0.73   \n",
              "7  My mother is elderly and the ringer on her iPh...     63          0.90   \n",
              "8  I don’t know how desperate you are to find a s...     13          0.86   \n",
              "9  Sorry if the formatting is bad I’m typing this...    957          0.97   \n",
              "\n",
              "   num_comments   created_utc  \\\n",
              "0           199  1.734604e+09   \n",
              "1            85  1.713824e+09   \n",
              "2           364  1.735234e+09   \n",
              "3           375  1.735243e+09   \n",
              "4            14  1.735257e+09   \n",
              "5             2  1.735286e+09   \n",
              "6           294  1.735228e+09   \n",
              "7            13  1.735236e+09   \n",
              "8             4  1.735265e+09   \n",
              "9           231  1.735181e+09   \n",
              "\n",
              "                                                 url  \n",
              "0  https://www.reddit.com/r/Scams/comments/1hhq2d...  \n",
              "1  https://www.reddit.com/r/Scams/comments/1canxs...  \n",
              "2  https://www.reddit.com/r/Scams/comments/1hmt04...  \n",
              "3  https://www.reddit.com/r/Scams/comments/1hmwhv...  \n",
              "4  https://www.reddit.com/r/Scams/comments/1hn1q4...  \n",
              "5  https://www.reddit.com/r/Scams/comments/1hna4h...  \n",
              "6             https://www.reddit.com/gallery/1hmqzky  \n",
              "7  https://www.reddit.com/r/Scams/comments/1hmtsv...  \n",
              "8  https://www.reddit.com/r/Scams/comments/1hn48y...  \n",
              "9               https://i.redd.it/mcuov75mw39e1.jpeg  "
            ],
            "text/html": [
              "\n",
              "  <div id=\"df-34da11a0-3500-4a50-85a3-effbb6d9fc2f\" class=\"colab-df-container\">\n",
              "    <div>\n",
              "<style scoped>\n",
              "    .dataframe tbody tr th:only-of-type {\n",
              "        vertical-align: middle;\n",
              "    }\n",
              "\n",
              "    .dataframe tbody tr th {\n",
              "        vertical-align: top;\n",
              "    }\n",
              "\n",
              "    .dataframe thead th {\n",
              "        text-align: right;\n",
              "    }\n",
              "</style>\n",
              "<table border=\"1\" class=\"dataframe\">\n",
              "  <thead>\n",
              "    <tr style=\"text-align: right;\">\n",
              "      <th></th>\n",
              "      <th>title</th>\n",
              "      <th>selftext</th>\n",
              "      <th>score</th>\n",
              "      <th>upvote_ratio</th>\n",
              "      <th>num_comments</th>\n",
              "      <th>created_utc</th>\n",
              "      <th>url</th>\n",
              "    </tr>\n",
              "  </thead>\n",
              "  <tbody>\n",
              "    <tr>\n",
              "      <th>0</th>\n",
              "      <td>Scammed by iq-institute org - fraudulent company</td>\n",
              "      <td>I was scammed by IQ Institute \\[org\\]. They ke...</td>\n",
              "      <td>2216</td>\n",
              "      <td>0.93</td>\n",
              "      <td>199</td>\n",
              "      <td>1.734604e+09</td>\n",
              "      <td>https://www.reddit.com/r/Scams/comments/1hhq2d...</td>\n",
              "    </tr>\n",
              "    <tr>\n",
              "      <th>1</th>\n",
              "      <td>Scammed by Jacob Levinrad</td>\n",
              "      <td>Bought into the $4800 course and was expecting...</td>\n",
              "      <td>51</td>\n",
              "      <td>0.78</td>\n",
              "      <td>85</td>\n",
              "      <td>1.713824e+09</td>\n",
              "      <td>https://www.reddit.com/r/Scams/comments/1canxs...</td>\n",
              "    </tr>\n",
              "    <tr>\n",
              "      <th>2</th>\n",
              "      <td>Loss of trust in wife after scam</td>\n",
              "      <td>My wife got scammed.  Two days before Christma...</td>\n",
              "      <td>607</td>\n",
              "      <td>0.91</td>\n",
              "      <td>364</td>\n",
              "      <td>1.735234e+09</td>\n",
              "      <td>https://www.reddit.com/r/Scams/comments/1hmt04...</td>\n",
              "    </tr>\n",
              "    <tr>\n",
              "      <th>3</th>\n",
              "      <td>My mom think a job offer is a scam trying to s...</td>\n",
              "      <td>When I check my messages a customer service re...</td>\n",
              "      <td>233</td>\n",
              "      <td>0.76</td>\n",
              "      <td>375</td>\n",
              "      <td>1.735243e+09</td>\n",
              "      <td>https://www.reddit.com/r/Scams/comments/1hmwhv...</td>\n",
              "    </tr>\n",
              "    <tr>\n",
              "      <th>4</th>\n",
              "      <td>Update to my old post, I disputed the scam and...</td>\n",
              "      <td>My old post below, and the link to it.  \\n[htt...</td>\n",
              "      <td>36</td>\n",
              "      <td>0.85</td>\n",
              "      <td>14</td>\n",
              "      <td>1.735257e+09</td>\n",
              "      <td>https://www.reddit.com/r/Scams/comments/1hn1q4...</td>\n",
              "    </tr>\n",
              "    <tr>\n",
              "      <th>5</th>\n",
              "      <td>Lost and Found Pet Scam!</td>\n",
              "      <td>WARNING!! Lost pet SCAM to be aware of!!\\n\\nI ...</td>\n",
              "      <td>7</td>\n",
              "      <td>1.00</td>\n",
              "      <td>2</td>\n",
              "      <td>1.735286e+09</td>\n",
              "      <td>https://www.reddit.com/r/Scams/comments/1hna4h...</td>\n",
              "    </tr>\n",
              "    <tr>\n",
              "      <th>6</th>\n",
              "      <td>I need help please currently being a victim of...</td>\n",
              "      <td>Hello everyone, I am currently being scammed b...</td>\n",
              "      <td>113</td>\n",
              "      <td>0.73</td>\n",
              "      <td>294</td>\n",
              "      <td>1.735228e+09</td>\n",
              "      <td>https://www.reddit.com/gallery/1hmqzky</td>\n",
              "    </tr>\n",
              "    <tr>\n",
              "      <th>7</th>\n",
              "      <td>\"Medicare\" Phone Scam 12/26/24</td>\n",
              "      <td>My mother is elderly and the ringer on her iPh...</td>\n",
              "      <td>63</td>\n",
              "      <td>0.90</td>\n",
              "      <td>13</td>\n",
              "      <td>1.735236e+09</td>\n",
              "      <td>https://www.reddit.com/r/Scams/comments/1hmtsv...</td>\n",
              "    </tr>\n",
              "    <tr>\n",
              "      <th>8</th>\n",
              "      <td>Dangerous Stem Cell Frauds in Mexico</td>\n",
              "      <td>I don’t know how desperate you are to find a s...</td>\n",
              "      <td>13</td>\n",
              "      <td>0.86</td>\n",
              "      <td>4</td>\n",
              "      <td>1.735265e+09</td>\n",
              "      <td>https://www.reddit.com/r/Scams/comments/1hn48y...</td>\n",
              "    </tr>\n",
              "    <tr>\n",
              "      <th>9</th>\n",
              "      <td>Brand new Amazon gift cards have been scratche...</td>\n",
              "      <td>Sorry if the formatting is bad I’m typing this...</td>\n",
              "      <td>957</td>\n",
              "      <td>0.97</td>\n",
              "      <td>231</td>\n",
              "      <td>1.735181e+09</td>\n",
              "      <td>https://i.redd.it/mcuov75mw39e1.jpeg</td>\n",
              "    </tr>\n",
              "  </tbody>\n",
              "</table>\n",
              "</div>\n",
              "    <div class=\"colab-df-buttons\">\n",
              "\n",
              "  <div class=\"colab-df-container\">\n",
              "    <button class=\"colab-df-convert\" onclick=\"convertToInteractive('df-34da11a0-3500-4a50-85a3-effbb6d9fc2f')\"\n",
              "            title=\"Convert this dataframe to an interactive table.\"\n",
              "            style=\"display:none;\">\n",
              "\n",
              "  <svg xmlns=\"http://www.w3.org/2000/svg\" height=\"24px\" viewBox=\"0 -960 960 960\">\n",
              "    <path d=\"M120-120v-720h720v720H120Zm60-500h600v-160H180v160Zm220 220h160v-160H400v160Zm0 220h160v-160H400v160ZM180-400h160v-160H180v160Zm440 0h160v-160H620v160ZM180-180h160v-160H180v160Zm440 0h160v-160H620v160Z\"/>\n",
              "  </svg>\n",
              "    </button>\n",
              "\n",
              "  <style>\n",
              "    .colab-df-container {\n",
              "      display:flex;\n",
              "      gap: 12px;\n",
              "    }\n",
              "\n",
              "    .colab-df-convert {\n",
              "      background-color: #E8F0FE;\n",
              "      border: none;\n",
              "      border-radius: 50%;\n",
              "      cursor: pointer;\n",
              "      display: none;\n",
              "      fill: #1967D2;\n",
              "      height: 32px;\n",
              "      padding: 0 0 0 0;\n",
              "      width: 32px;\n",
              "    }\n",
              "\n",
              "    .colab-df-convert:hover {\n",
              "      background-color: #E2EBFA;\n",
              "      box-shadow: 0px 1px 2px rgba(60, 64, 67, 0.3), 0px 1px 3px 1px rgba(60, 64, 67, 0.15);\n",
              "      fill: #174EA6;\n",
              "    }\n",
              "\n",
              "    .colab-df-buttons div {\n",
              "      margin-bottom: 4px;\n",
              "    }\n",
              "\n",
              "    [theme=dark] .colab-df-convert {\n",
              "      background-color: #3B4455;\n",
              "      fill: #D2E3FC;\n",
              "    }\n",
              "\n",
              "    [theme=dark] .colab-df-convert:hover {\n",
              "      background-color: #434B5C;\n",
              "      box-shadow: 0px 1px 3px 1px rgba(0, 0, 0, 0.15);\n",
              "      filter: drop-shadow(0px 1px 2px rgba(0, 0, 0, 0.3));\n",
              "      fill: #FFFFFF;\n",
              "    }\n",
              "  </style>\n",
              "\n",
              "    <script>\n",
              "      const buttonEl =\n",
              "        document.querySelector('#df-34da11a0-3500-4a50-85a3-effbb6d9fc2f button.colab-df-convert');\n",
              "      buttonEl.style.display =\n",
              "        google.colab.kernel.accessAllowed ? 'block' : 'none';\n",
              "\n",
              "      async function convertToInteractive(key) {\n",
              "        const element = document.querySelector('#df-34da11a0-3500-4a50-85a3-effbb6d9fc2f');\n",
              "        const dataTable =\n",
              "          await google.colab.kernel.invokeFunction('convertToInteractive',\n",
              "                                                    [key], {});\n",
              "        if (!dataTable) return;\n",
              "\n",
              "        const docLinkHtml = 'Like what you see? Visit the ' +\n",
              "          '<a target=\"_blank\" href=https://colab.research.google.com/notebooks/data_table.ipynb>data table notebook</a>'\n",
              "          + ' to learn more about interactive tables.';\n",
              "        element.innerHTML = '';\n",
              "        dataTable['output_type'] = 'display_data';\n",
              "        await google.colab.output.renderOutput(dataTable, element);\n",
              "        const docLink = document.createElement('div');\n",
              "        docLink.innerHTML = docLinkHtml;\n",
              "        element.appendChild(docLink);\n",
              "      }\n",
              "    </script>\n",
              "  </div>\n",
              "\n",
              "\n",
              "<div id=\"df-7e23c1a8-9b05-4df9-9ce0-f16096197ca3\">\n",
              "  <button class=\"colab-df-quickchart\" onclick=\"quickchart('df-7e23c1a8-9b05-4df9-9ce0-f16096197ca3')\"\n",
              "            title=\"Suggest charts\"\n",
              "            style=\"display:none;\">\n",
              "\n",
              "<svg xmlns=\"http://www.w3.org/2000/svg\" height=\"24px\"viewBox=\"0 0 24 24\"\n",
              "     width=\"24px\">\n",
              "    <g>\n",
              "        <path d=\"M19 3H5c-1.1 0-2 .9-2 2v14c0 1.1.9 2 2 2h14c1.1 0 2-.9 2-2V5c0-1.1-.9-2-2-2zM9 17H7v-7h2v7zm4 0h-2V7h2v10zm4 0h-2v-4h2v4z\"/>\n",
              "    </g>\n",
              "</svg>\n",
              "  </button>\n",
              "\n",
              "<style>\n",
              "  .colab-df-quickchart {\n",
              "      --bg-color: #E8F0FE;\n",
              "      --fill-color: #1967D2;\n",
              "      --hover-bg-color: #E2EBFA;\n",
              "      --hover-fill-color: #174EA6;\n",
              "      --disabled-fill-color: #AAA;\n",
              "      --disabled-bg-color: #DDD;\n",
              "  }\n",
              "\n",
              "  [theme=dark] .colab-df-quickchart {\n",
              "      --bg-color: #3B4455;\n",
              "      --fill-color: #D2E3FC;\n",
              "      --hover-bg-color: #434B5C;\n",
              "      --hover-fill-color: #FFFFFF;\n",
              "      --disabled-bg-color: #3B4455;\n",
              "      --disabled-fill-color: #666;\n",
              "  }\n",
              "\n",
              "  .colab-df-quickchart {\n",
              "    background-color: var(--bg-color);\n",
              "    border: none;\n",
              "    border-radius: 50%;\n",
              "    cursor: pointer;\n",
              "    display: none;\n",
              "    fill: var(--fill-color);\n",
              "    height: 32px;\n",
              "    padding: 0;\n",
              "    width: 32px;\n",
              "  }\n",
              "\n",
              "  .colab-df-quickchart:hover {\n",
              "    background-color: var(--hover-bg-color);\n",
              "    box-shadow: 0 1px 2px rgba(60, 64, 67, 0.3), 0 1px 3px 1px rgba(60, 64, 67, 0.15);\n",
              "    fill: var(--button-hover-fill-color);\n",
              "  }\n",
              "\n",
              "  .colab-df-quickchart-complete:disabled,\n",
              "  .colab-df-quickchart-complete:disabled:hover {\n",
              "    background-color: var(--disabled-bg-color);\n",
              "    fill: var(--disabled-fill-color);\n",
              "    box-shadow: none;\n",
              "  }\n",
              "\n",
              "  .colab-df-spinner {\n",
              "    border: 2px solid var(--fill-color);\n",
              "    border-color: transparent;\n",
              "    border-bottom-color: var(--fill-color);\n",
              "    animation:\n",
              "      spin 1s steps(1) infinite;\n",
              "  }\n",
              "\n",
              "  @keyframes spin {\n",
              "    0% {\n",
              "      border-color: transparent;\n",
              "      border-bottom-color: var(--fill-color);\n",
              "      border-left-color: var(--fill-color);\n",
              "    }\n",
              "    20% {\n",
              "      border-color: transparent;\n",
              "      border-left-color: var(--fill-color);\n",
              "      border-top-color: var(--fill-color);\n",
              "    }\n",
              "    30% {\n",
              "      border-color: transparent;\n",
              "      border-left-color: var(--fill-color);\n",
              "      border-top-color: var(--fill-color);\n",
              "      border-right-color: var(--fill-color);\n",
              "    }\n",
              "    40% {\n",
              "      border-color: transparent;\n",
              "      border-right-color: var(--fill-color);\n",
              "      border-top-color: var(--fill-color);\n",
              "    }\n",
              "    60% {\n",
              "      border-color: transparent;\n",
              "      border-right-color: var(--fill-color);\n",
              "    }\n",
              "    80% {\n",
              "      border-color: transparent;\n",
              "      border-right-color: var(--fill-color);\n",
              "      border-bottom-color: var(--fill-color);\n",
              "    }\n",
              "    90% {\n",
              "      border-color: transparent;\n",
              "      border-bottom-color: var(--fill-color);\n",
              "    }\n",
              "  }\n",
              "</style>\n",
              "\n",
              "  <script>\n",
              "    async function quickchart(key) {\n",
              "      const quickchartButtonEl =\n",
              "        document.querySelector('#' + key + ' button');\n",
              "      quickchartButtonEl.disabled = true;  // To prevent multiple clicks.\n",
              "      quickchartButtonEl.classList.add('colab-df-spinner');\n",
              "      try {\n",
              "        const charts = await google.colab.kernel.invokeFunction(\n",
              "            'suggestCharts', [key], {});\n",
              "      } catch (error) {\n",
              "        console.error('Error during call to suggestCharts:', error);\n",
              "      }\n",
              "      quickchartButtonEl.classList.remove('colab-df-spinner');\n",
              "      quickchartButtonEl.classList.add('colab-df-quickchart-complete');\n",
              "    }\n",
              "    (() => {\n",
              "      let quickchartButtonEl =\n",
              "        document.querySelector('#df-7e23c1a8-9b05-4df9-9ce0-f16096197ca3 button');\n",
              "      quickchartButtonEl.style.display =\n",
              "        google.colab.kernel.accessAllowed ? 'block' : 'none';\n",
              "    })();\n",
              "  </script>\n",
              "</div>\n",
              "\n",
              "    </div>\n",
              "  </div>\n"
            ],
            "application/vnd.google.colaboratory.intrinsic+json": {
              "type": "dataframe",
              "variable_name": "df",
              "summary": "{\n  \"name\": \"df\",\n  \"rows\": 558,\n  \"fields\": [\n    {\n      \"column\": \"title\",\n      \"properties\": {\n        \"dtype\": \"string\",\n        \"num_unique_values\": 556,\n        \"samples\": [\n          \"Has anyone experienced a scam with Fintel Values? (www.fintelvalues.com)\",\n          \"Should I be concerned of a email sent to me but addressed to my wife?\",\n          \"Fake Job  \\u2013 FatJoe. Scam\"\n        ],\n        \"semantic_type\": \"\",\n        \"description\": \"\"\n      }\n    },\n    {\n      \"column\": \"selftext\",\n      \"properties\": {\n        \"dtype\": \"string\",\n        \"num_unique_values\": 557,\n        \"samples\": [\n          \"I received two phone calls and one voicemail message from the same number. The VM message stated the call was from \\\"Wells Fargo\\\". When I called, I was prompted several times to enter my account number. I have no Wells Fargo account. While I was on hold, I was informed the call was being recorded in that Wells Fargo was attempting \\\"to collect a debt\\\". I was connected with \\\"Joey\\\". Joey asked for my first and last name and account number. \\\"Joey\\\" refused to give me his last name. FYI: There was a prior Reddit post from 2 years back regarding the same scam.\",\n          \"i was streaming on twitch with nobody in the chatroom when he suddenly joins follows and sends a request for me to friend him on discord . he goes on to say that hes been enjoying my content on twitch but on the day he joined it was my first official stream. im a bit suspicous especially becuase he wants to recommend me someone who will help grow my twitch channel and ive heard of scams that target up and coming creators.\",\n          \"Hi everyone,\\n\\nI wanted to share my story about a cryptocurrency-related scam to help others avoid falling for the same trap.\\n\\n  \\n\\n\\nI received an unsolicited  message offering a remote job. The person claimed my contact details were sourced from platforms like Indeed or Glassdoor. The job seemed simple\\u2014completing app reviews and depositing cryptocurrency into a \\u201cwork account\\u201d to earn commissions.\\n\\n  \\n\\n\\nFor the first three days, the system worked perfectly\\u2014I deposited money by crypto transaction, completed tasks, and withdrew both my deposits and commissions. This built my confidence. On the fourth day, however, they demanded a significantly higher deposit, claiming it was necessary to \\u201cfinalize the tasks.\\u201d\\n\\n  \\n\\n\\nWhen I refused, they locked my account and stopped responding unless I sent more money. I lost $10,000 in total.\\n\\n  \\n\\n\\nI have documented all transactions, communication logs, and wallet addresses involved. If anyone has faced something similar or knows steps to recover funds, please share. Let\\u2019s spread awareness to prevent others from falling victim to this scam!\\n\\n\"\n        ],\n        \"semantic_type\": \"\",\n        \"description\": \"\"\n      }\n    },\n    {\n      \"column\": \"score\",\n      \"properties\": {\n        \"dtype\": \"number\",\n        \"std\": 148,\n        \"min\": 0,\n        \"max\": 2216,\n        \"num_unique_values\": 78,\n        \"samples\": [\n          66,\n          2216,\n          517\n        ],\n        \"semantic_type\": \"\",\n        \"description\": \"\"\n      }\n    },\n    {\n      \"column\": \"upvote_ratio\",\n      \"properties\": {\n        \"dtype\": \"number\",\n        \"std\": 0.1976440551234137,\n        \"min\": 0.15,\n        \"max\": 1.0,\n        \"num_unique_values\": 75,\n        \"samples\": [\n          0.85,\n          0.64,\n          0.7\n        ],\n        \"semantic_type\": \"\",\n        \"description\": \"\"\n      }\n    },\n    {\n      \"column\": \"num_comments\",\n      \"properties\": {\n        \"dtype\": \"number\",\n        \"std\": 39,\n        \"min\": 1,\n        \"max\": 375,\n        \"num_unique_values\": 85,\n        \"samples\": [\n          98,\n          199,\n          103\n        ],\n        \"semantic_type\": \"\",\n        \"description\": \"\"\n      }\n    },\n    {\n      \"column\": \"created_utc\",\n      \"properties\": {\n        \"dtype\": \"number\",\n        \"std\": 915242.946150349,\n        \"min\": 1713824427.0,\n        \"max\": 1735290884.0,\n        \"num_unique_values\": 558,\n        \"samples\": [\n          1735083541.0,\n          1734802813.0,\n          1735254739.0\n        ],\n        \"semantic_type\": \"\",\n        \"description\": \"\"\n      }\n    },\n    {\n      \"column\": \"url\",\n      \"properties\": {\n        \"dtype\": \"string\",\n        \"num_unique_values\": 558,\n        \"samples\": [\n          \"https://www.reddit.com/r/Scams/comments/1hlp9zi/am_i_getting_scam/\",\n          \"https://www.reddit.com/r/Scams/comments/1hjeug2/i_think_this_guy_on_discord_might_be_tryna_scam_me/\",\n          \"https://www.reddit.com/r/Scams/comments/1hn0rvd/fake_job_fatjoe_scam/\"\n        ],\n        \"semantic_type\": \"\",\n        \"description\": \"\"\n      }\n    }\n  ]\n}"
            }
          },
          "metadata": {},
          "execution_count": 15
        }
      ]
    },
    {
      "cell_type": "code",
      "source": [
        "# Step 6: Save Data to CSV\n",
        "df.to_csv(\"reddit_scam_data.csv\", index=False)"
      ],
      "metadata": {
        "id": "3s89JlyLcXW9"
      },
      "execution_count": null,
      "outputs": []
    },
    {
      "cell_type": "code",
      "source": [
        "print(df.info())"
      ],
      "metadata": {
        "id": "3det97h7cXZ_",
        "colab": {
          "base_uri": "https://localhost:8080/"
        },
        "outputId": "77b63f96-5a8d-4082-d9f9-dcbc7038b89e"
      },
      "execution_count": null,
      "outputs": [
        {
          "output_type": "stream",
          "name": "stdout",
          "text": [
            "<class 'pandas.core.frame.DataFrame'>\n",
            "Index: 545 entries, 0 to 545\n",
            "Data columns (total 7 columns):\n",
            " #   Column        Non-Null Count  Dtype  \n",
            "---  ------        --------------  -----  \n",
            " 0   title         545 non-null    object \n",
            " 1   selftext      545 non-null    object \n",
            " 2   score         545 non-null    int64  \n",
            " 3   upvote_ratio  545 non-null    float64\n",
            " 4   num_comments  545 non-null    int64  \n",
            " 5   created_utc   545 non-null    float64\n",
            " 6   url           545 non-null    object \n",
            "dtypes: float64(2), int64(2), object(3)\n",
            "memory usage: 34.1+ KB\n",
            "None\n"
          ]
        }
      ]
    },
    {
      "cell_type": "code",
      "source": [
        "print(df.isnull().sum())"
      ],
      "metadata": {
        "id": "FBGlNALYcXcj",
        "colab": {
          "base_uri": "https://localhost:8080/"
        },
        "outputId": "84fa121d-4b82-4bbe-813c-e04aee6e07e3"
      },
      "execution_count": null,
      "outputs": [
        {
          "output_type": "stream",
          "name": "stdout",
          "text": [
            "title           0\n",
            "selftext        0\n",
            "score           0\n",
            "upvote_ratio    0\n",
            "num_comments    0\n",
            "created_utc     0\n",
            "url             0\n",
            "dtype: int64\n"
          ]
        }
      ]
    },
    {
      "cell_type": "code",
      "source": [
        "# Drop rows where critical columns like 'title' or 'selftext' are missing\n",
        "df = df.dropna(subset=['title', 'selftext'])\n",
        "\n",
        "# Fill missing values for numerical columns\n",
        "df['score'] = df['score'].fillna(df['score'].median())\n",
        "df['upvote_ratio'] = df['upvote_ratio'].fillna(df['upvote_ratio'].median())\n"
      ],
      "metadata": {
        "id": "89J6bXgjcXgD"
      },
      "execution_count": null,
      "outputs": []
    },
    {
      "cell_type": "code",
      "source": [
        "df.drop(columns=['url', 'created_utc'], inplace=True)\n"
      ],
      "metadata": {
        "id": "WhlJ0AMp1yxe"
      },
      "execution_count": null,
      "outputs": []
    },
    {
      "cell_type": "code",
      "source": [
        "df.drop_duplicates(inplace=True)"
      ],
      "metadata": {
        "id": "8KtGkMC_13iY"
      },
      "execution_count": null,
      "outputs": []
    },
    {
      "cell_type": "code",
      "source": [
        "import pandas as pd\n",
        "import re\n",
        "\n",
        "def clean_text(text):\n",
        "    if not isinstance(text, str):  # If it's not a string (e.g., NaN), return empty string\n",
        "        return ''\n",
        "    text = text.lower()  # Convert to lowercase\n",
        "    text = re.sub(r'[^a-z\\s]', '', text)  # Remove non-alphabetical characters\n",
        "    return text\n",
        "\n",
        "# Apply the cleaning function to 'title' and 'selftext' columns\n",
        "df['title'] = df['title'].apply(clean_text)\n",
        "df['selftext'] = df['selftext'].apply(clean_text)\n"
      ],
      "metadata": {
        "id": "6jIuh2c213UC"
      },
      "execution_count": null,
      "outputs": []
    },
    {
      "cell_type": "code",
      "source": [
        "df['score'] = pd.to_numeric(df['score'], errors='coerce')\n",
        "df['num_comments'] = pd.to_numeric(df['num_comments'], errors='coerce')\n",
        "df['upvote_ratio'] = pd.to_numeric(df['upvote_ratio'], errors='coerce')\n"
      ],
      "metadata": {
        "id": "Fu0L1V4b13HZ"
      },
      "execution_count": null,
      "outputs": []
    },
    {
      "cell_type": "code",
      "source": [
        "df['scam_score'] = df['score'] * df['upvote_ratio'] / df['num_comments']"
      ],
      "metadata": {
        "id": "2xV3N-aU127A"
      },
      "execution_count": null,
      "outputs": []
    },
    {
      "cell_type": "code",
      "source": [
        "from sklearn.preprocessing import MinMaxScaler\n",
        "\n",
        "scaler = MinMaxScaler()\n",
        "df[['score', 'upvote_ratio', 'num_comments']] = scaler.fit_transform(df[['score', 'upvote_ratio', 'num_comments']])\n"
      ],
      "metadata": {
        "id": "RXCwr6aw12t0"
      },
      "execution_count": null,
      "outputs": []
    },
    {
      "cell_type": "code",
      "source": [
        "df['scam_label'] = df['scam_score'].apply(lambda x: 1 if x > 0.5 else 0)\n"
      ],
      "metadata": {
        "id": "yKcwRgQK2Fqg"
      },
      "execution_count": null,
      "outputs": []
    },
    {
      "cell_type": "code",
      "source": [
        "df.to_csv('cleaned_reddit_dataset.csv', index=False)\n"
      ],
      "metadata": {
        "id": "6NEdZpho2Fei"
      },
      "execution_count": null,
      "outputs": []
    },
    {
      "cell_type": "markdown",
      "source": [
        "# **Sentiment Analysis**"
      ],
      "metadata": {
        "id": "fqceuM9Eahiy"
      }
    },
    {
      "cell_type": "code",
      "source": [
        "!pip install nltk"
      ],
      "metadata": {
        "id": "1_MCNSaIUn-B",
        "colab": {
          "base_uri": "https://localhost:8080/"
        },
        "outputId": "92433d8f-5184-490c-92ad-e7bb32841af1"
      },
      "execution_count": null,
      "outputs": [
        {
          "output_type": "stream",
          "name": "stdout",
          "text": [
            "Requirement already satisfied: nltk in /usr/local/lib/python3.10/dist-packages (3.9.1)\n",
            "Requirement already satisfied: click in /usr/local/lib/python3.10/dist-packages (from nltk) (8.1.7)\n",
            "Requirement already satisfied: joblib in /usr/local/lib/python3.10/dist-packages (from nltk) (1.4.2)\n",
            "Requirement already satisfied: regex>=2021.8.3 in /usr/local/lib/python3.10/dist-packages (from nltk) (2024.9.11)\n",
            "Requirement already satisfied: tqdm in /usr/local/lib/python3.10/dist-packages (from nltk) (4.66.6)\n"
          ]
        }
      ]
    },
    {
      "cell_type": "code",
      "source": [
        "import nltk\n",
        "from nltk.sentiment.vader import SentimentIntensityAnalyzer\n",
        "import pandas as pd"
      ],
      "metadata": {
        "id": "7qqOOVH1UnwT"
      },
      "execution_count": null,
      "outputs": []
    },
    {
      "cell_type": "code",
      "source": [
        "nltk.download('vader_lexicon')"
      ],
      "metadata": {
        "colab": {
          "base_uri": "https://localhost:8080/"
        },
        "id": "8gcYDVcsa-oz",
        "outputId": "4c5c7667-4cff-4f1f-890c-e15122410770"
      },
      "execution_count": null,
      "outputs": [
        {
          "output_type": "stream",
          "name": "stderr",
          "text": [
            "[nltk_data] Downloading package vader_lexicon to /root/nltk_data...\n"
          ]
        },
        {
          "output_type": "execute_result",
          "data": {
            "text/plain": [
              "True"
            ]
          },
          "metadata": {},
          "execution_count": 30
        }
      ]
    },
    {
      "cell_type": "code",
      "source": [
        "analyzer = SentimentIntensityAnalyzer()"
      ],
      "metadata": {
        "id": "rtoN1TDabBnd"
      },
      "execution_count": null,
      "outputs": []
    },
    {
      "cell_type": "code",
      "source": [
        "df = pd.read_csv('cleaned_reddit_dataset.csv')"
      ],
      "metadata": {
        "id": "gX5QuYwWbEYo"
      },
      "execution_count": null,
      "outputs": []
    },
    {
      "cell_type": "code",
      "source": [
        "def get_sentiment(text):\n",
        "    scores = analyzer.polarity_scores(text)\n",
        "    return scores"
      ],
      "metadata": {
        "id": "WWS5vEoQbHcY"
      },
      "execution_count": null,
      "outputs": []
    },
    {
      "cell_type": "code",
      "source": [
        "df['sentiment_scores'] = df['selftext'].apply(get_sentiment)"
      ],
      "metadata": {
        "id": "_9frSivSbKkV"
      },
      "execution_count": null,
      "outputs": []
    },
    {
      "cell_type": "code",
      "source": [
        "df['compound'] = df['sentiment_scores'].apply(lambda x: x['compound'])\n",
        "df['sentiment_label'] = df['compound'].apply(lambda x: 'positive' if x > 0.05 else ('negative' if x < -0.05 else 'neutral'))"
      ],
      "metadata": {
        "id": "EZGVpI6gbMHL"
      },
      "execution_count": null,
      "outputs": []
    },
    {
      "cell_type": "code",
      "source": [
        "df.to_csv('reddit_sentiment_analysis.csv', index=False)"
      ],
      "metadata": {
        "id": "4P0mDiKlbRDZ"
      },
      "execution_count": null,
      "outputs": []
    },
    {
      "cell_type": "code",
      "source": [
        "# Display the first few rows of the DataFrame with sentiment analysis\n",
        "print(df[['selftext', 'sentiment_label', 'compound']].head(10))"
      ],
      "metadata": {
        "colab": {
          "base_uri": "https://localhost:8080/"
        },
        "id": "JSbiwTe-bUBh",
        "outputId": "a4c5e8d1-595d-45fb-9c37-02313dc4767e"
      },
      "execution_count": null,
      "outputs": [
        {
          "output_type": "stream",
          "name": "stdout",
          "text": [
            "                                            selftext sentiment_label  compound\n",
            "0  i wanted to take a quick iq test online so i f...        negative   -0.6317\n",
            "1  this post contains content not supported on ol...        negative   -0.2411\n",
            "2  my boyfriend was contacted  years ago by a wom...        positive    0.4215\n",
            "3  i was waiting in the walmart customer service ...        negative   -0.1655\n",
            "4  some years back a woman rang my doorbell and a...        positive    0.1655\n",
            "5  hi so i scrolling through jobs on indeed and c...        positive    0.3818\n",
            "6  it really upsets me when i read about elderly ...        negative   -0.9627\n",
            "7  i just messaged with a woman who is the admin ...        negative   -0.8079\n",
            "8  hello i am hoping someone can help me or give ...        negative   -0.8508\n",
            "9  my wife and i own a small business and just hi...        negative   -0.6249\n"
          ]
        }
      ]
    },
    {
      "cell_type": "markdown",
      "source": [
        "**Create the target variable 'Is_Scam'**"
      ],
      "metadata": {
        "id": "6-KgSZw-bYi7"
      }
    },
    {
      "cell_type": "code",
      "source": [
        "# Define a threshold for scam classification\n",
        "threshold = -0.05  # Adjust this threshold as needed\n",
        "df['Is_Scam'] = df['compound'].apply(lambda x: 1 if x < threshold else 0)"
      ],
      "metadata": {
        "id": "s9sEpnisbWFa"
      },
      "execution_count": null,
      "outputs": []
    },
    {
      "cell_type": "code",
      "source": [
        "# Save the results to a new CSV file\n",
        "df.to_csv('reddit_scam_detection.csv', index=False)"
      ],
      "metadata": {
        "id": "Mnet8XXtbehp"
      },
      "execution_count": null,
      "outputs": []
    },
    {
      "cell_type": "code",
      "source": [
        "# Display the first few rows of the DataFrame with the target variable\n",
        "print(df[['selftext', 'compound', 'Is_Scam']].head(10))"
      ],
      "metadata": {
        "id": "VgxtS22wbfr0",
        "outputId": "e9c82033-ffe5-4f3c-d56a-f671ffa1640a",
        "colab": {
          "base_uri": "https://localhost:8080/"
        }
      },
      "execution_count": null,
      "outputs": [
        {
          "output_type": "stream",
          "name": "stdout",
          "text": [
            "                                            selftext  compound  Is_Scam\n",
            "0  i wanted to take a quick iq test online so i f...   -0.6317        1\n",
            "1  this post contains content not supported on ol...   -0.2411        1\n",
            "2  my boyfriend was contacted  years ago by a wom...    0.4215        0\n",
            "3  i was waiting in the walmart customer service ...   -0.1655        1\n",
            "4  some years back a woman rang my doorbell and a...    0.1655        0\n",
            "5  hi so i scrolling through jobs on indeed and c...    0.3818        0\n",
            "6  it really upsets me when i read about elderly ...   -0.9627        1\n",
            "7  i just messaged with a woman who is the admin ...   -0.8079        1\n",
            "8  hello i am hoping someone can help me or give ...   -0.8508        1\n",
            "9  my wife and i own a small business and just hi...   -0.6249        1\n"
          ]
        }
      ]
    },
    {
      "cell_type": "markdown",
      "source": [
        "# ***Model developement***"
      ],
      "metadata": {
        "id": "CYINUppg-TIq"
      }
    },
    {
      "cell_type": "code",
      "source": [
        "import numpy as np\n",
        "from sklearn.model_selection import train_test_split\n",
        "from sklearn.feature_extraction.text import TfidfVectorizer\n",
        "from sklearn.ensemble import RandomForestClassifier\n",
        "from sklearn.metrics import accuracy_score, precision_score, recall_score, f1_score"
      ],
      "metadata": {
        "id": "b0Mu_tjh_Hti"
      },
      "execution_count": null,
      "outputs": []
    },
    {
      "cell_type": "code",
      "source": [
        "dfc=pd.read_csv('reddit_scam_detection.csv')"
      ],
      "metadata": {
        "id": "TbQIu68r-SDe"
      },
      "execution_count": null,
      "outputs": []
    },
    {
      "cell_type": "code",
      "source": [
        "dfc.head()"
      ],
      "metadata": {
        "id": "Pe1sV_el-R9Z",
        "colab": {
          "base_uri": "https://localhost:8080/",
          "height": 678
        },
        "outputId": "6feb16f3-3c48-45a0-9e7e-7d704f9e1ffb"
      },
      "execution_count": null,
      "outputs": [
        {
          "output_type": "execute_result",
          "data": {
            "text/plain": [
              "                                               title  \\\n",
              "0                  cerebrum iq scam card info stolen   \n",
              "1                                  welcome to rscams   \n",
              "2                   found a birth certificate hiking   \n",
              "3                  downy wrinkle release return scam   \n",
              "4  door to door salespeople near the holidayscasi...   \n",
              "\n",
              "                                            selftext     score  upvote_ratio  \\\n",
              "0  i wanted to take a quick iq test online so i f...  0.135774      0.955056   \n",
              "1  this post contains content not supported on ol...  0.016219      0.842697   \n",
              "2  my boyfriend was contacted  years ago by a wom...  0.080167      0.921348   \n",
              "3  i was waiting in the walmart customer service ...  0.013438      0.898876   \n",
              "4  some years back a woman rang my doorbell and a...  0.040315      0.831461   \n",
              "\n",
              "   num_comments  scam_score  scam_label  \\\n",
              "0      1.000000    0.595932           1   \n",
              "1      0.040254    1.584211           1   \n",
              "2      0.065678    5.190000           1   \n",
              "3      0.033898    1.649375           1   \n",
              "4      0.061441    2.550000           1   \n",
              "\n",
              "                                    sentiment_scores  compound  \\\n",
              "0  {'neg': 0.093, 'neu': 0.833, 'pos': 0.073, 'co...   -0.6317   \n",
              "1  {'neg': 0.116, 'neu': 0.884, 'pos': 0.0, 'comp...   -0.2411   \n",
              "2  {'neg': 0.029, 'neu': 0.905, 'pos': 0.066, 'co...    0.4215   \n",
              "3  {'neg': 0.009, 'neu': 0.991, 'pos': 0.0, 'comp...   -0.1655   \n",
              "4  {'neg': 0.066, 'neu': 0.864, 'pos': 0.07, 'com...    0.1655   \n",
              "\n",
              "  sentiment_label  Is_Scam  \n",
              "0        negative        1  \n",
              "1        negative        1  \n",
              "2        positive        0  \n",
              "3        negative        1  \n",
              "4        positive        0  "
            ],
            "text/html": [
              "\n",
              "  <div id=\"df-ff071c37-8c95-4ce4-acf2-9198579125c5\" class=\"colab-df-container\">\n",
              "    <div>\n",
              "<style scoped>\n",
              "    .dataframe tbody tr th:only-of-type {\n",
              "        vertical-align: middle;\n",
              "    }\n",
              "\n",
              "    .dataframe tbody tr th {\n",
              "        vertical-align: top;\n",
              "    }\n",
              "\n",
              "    .dataframe thead th {\n",
              "        text-align: right;\n",
              "    }\n",
              "</style>\n",
              "<table border=\"1\" class=\"dataframe\">\n",
              "  <thead>\n",
              "    <tr style=\"text-align: right;\">\n",
              "      <th></th>\n",
              "      <th>title</th>\n",
              "      <th>selftext</th>\n",
              "      <th>score</th>\n",
              "      <th>upvote_ratio</th>\n",
              "      <th>num_comments</th>\n",
              "      <th>scam_score</th>\n",
              "      <th>scam_label</th>\n",
              "      <th>sentiment_scores</th>\n",
              "      <th>compound</th>\n",
              "      <th>sentiment_label</th>\n",
              "      <th>Is_Scam</th>\n",
              "    </tr>\n",
              "  </thead>\n",
              "  <tbody>\n",
              "    <tr>\n",
              "      <th>0</th>\n",
              "      <td>cerebrum iq scam card info stolen</td>\n",
              "      <td>i wanted to take a quick iq test online so i f...</td>\n",
              "      <td>0.135774</td>\n",
              "      <td>0.955056</td>\n",
              "      <td>1.000000</td>\n",
              "      <td>0.595932</td>\n",
              "      <td>1</td>\n",
              "      <td>{'neg': 0.093, 'neu': 0.833, 'pos': 0.073, 'co...</td>\n",
              "      <td>-0.6317</td>\n",
              "      <td>negative</td>\n",
              "      <td>1</td>\n",
              "    </tr>\n",
              "    <tr>\n",
              "      <th>1</th>\n",
              "      <td>welcome to rscams</td>\n",
              "      <td>this post contains content not supported on ol...</td>\n",
              "      <td>0.016219</td>\n",
              "      <td>0.842697</td>\n",
              "      <td>0.040254</td>\n",
              "      <td>1.584211</td>\n",
              "      <td>1</td>\n",
              "      <td>{'neg': 0.116, 'neu': 0.884, 'pos': 0.0, 'comp...</td>\n",
              "      <td>-0.2411</td>\n",
              "      <td>negative</td>\n",
              "      <td>1</td>\n",
              "    </tr>\n",
              "    <tr>\n",
              "      <th>2</th>\n",
              "      <td>found a birth certificate hiking</td>\n",
              "      <td>my boyfriend was contacted  years ago by a wom...</td>\n",
              "      <td>0.080167</td>\n",
              "      <td>0.921348</td>\n",
              "      <td>0.065678</td>\n",
              "      <td>5.190000</td>\n",
              "      <td>1</td>\n",
              "      <td>{'neg': 0.029, 'neu': 0.905, 'pos': 0.066, 'co...</td>\n",
              "      <td>0.4215</td>\n",
              "      <td>positive</td>\n",
              "      <td>0</td>\n",
              "    </tr>\n",
              "    <tr>\n",
              "      <th>3</th>\n",
              "      <td>downy wrinkle release return scam</td>\n",
              "      <td>i was waiting in the walmart customer service ...</td>\n",
              "      <td>0.013438</td>\n",
              "      <td>0.898876</td>\n",
              "      <td>0.033898</td>\n",
              "      <td>1.649375</td>\n",
              "      <td>1</td>\n",
              "      <td>{'neg': 0.009, 'neu': 0.991, 'pos': 0.0, 'comp...</td>\n",
              "      <td>-0.1655</td>\n",
              "      <td>negative</td>\n",
              "      <td>1</td>\n",
              "    </tr>\n",
              "    <tr>\n",
              "      <th>4</th>\n",
              "      <td>door to door salespeople near the holidayscasi...</td>\n",
              "      <td>some years back a woman rang my doorbell and a...</td>\n",
              "      <td>0.040315</td>\n",
              "      <td>0.831461</td>\n",
              "      <td>0.061441</td>\n",
              "      <td>2.550000</td>\n",
              "      <td>1</td>\n",
              "      <td>{'neg': 0.066, 'neu': 0.864, 'pos': 0.07, 'com...</td>\n",
              "      <td>0.1655</td>\n",
              "      <td>positive</td>\n",
              "      <td>0</td>\n",
              "    </tr>\n",
              "  </tbody>\n",
              "</table>\n",
              "</div>\n",
              "    <div class=\"colab-df-buttons\">\n",
              "\n",
              "  <div class=\"colab-df-container\">\n",
              "    <button class=\"colab-df-convert\" onclick=\"convertToInteractive('df-ff071c37-8c95-4ce4-acf2-9198579125c5')\"\n",
              "            title=\"Convert this dataframe to an interactive table.\"\n",
              "            style=\"display:none;\">\n",
              "\n",
              "  <svg xmlns=\"http://www.w3.org/2000/svg\" height=\"24px\" viewBox=\"0 -960 960 960\">\n",
              "    <path d=\"M120-120v-720h720v720H120Zm60-500h600v-160H180v160Zm220 220h160v-160H400v160Zm0 220h160v-160H400v160ZM180-400h160v-160H180v160Zm440 0h160v-160H620v160ZM180-180h160v-160H180v160Zm440 0h160v-160H620v160Z\"/>\n",
              "  </svg>\n",
              "    </button>\n",
              "\n",
              "  <style>\n",
              "    .colab-df-container {\n",
              "      display:flex;\n",
              "      gap: 12px;\n",
              "    }\n",
              "\n",
              "    .colab-df-convert {\n",
              "      background-color: #E8F0FE;\n",
              "      border: none;\n",
              "      border-radius: 50%;\n",
              "      cursor: pointer;\n",
              "      display: none;\n",
              "      fill: #1967D2;\n",
              "      height: 32px;\n",
              "      padding: 0 0 0 0;\n",
              "      width: 32px;\n",
              "    }\n",
              "\n",
              "    .colab-df-convert:hover {\n",
              "      background-color: #E2EBFA;\n",
              "      box-shadow: 0px 1px 2px rgba(60, 64, 67, 0.3), 0px 1px 3px 1px rgba(60, 64, 67, 0.15);\n",
              "      fill: #174EA6;\n",
              "    }\n",
              "\n",
              "    .colab-df-buttons div {\n",
              "      margin-bottom: 4px;\n",
              "    }\n",
              "\n",
              "    [theme=dark] .colab-df-convert {\n",
              "      background-color: #3B4455;\n",
              "      fill: #D2E3FC;\n",
              "    }\n",
              "\n",
              "    [theme=dark] .colab-df-convert:hover {\n",
              "      background-color: #434B5C;\n",
              "      box-shadow: 0px 1px 3px 1px rgba(0, 0, 0, 0.15);\n",
              "      filter: drop-shadow(0px 1px 2px rgba(0, 0, 0, 0.3));\n",
              "      fill: #FFFFFF;\n",
              "    }\n",
              "  </style>\n",
              "\n",
              "    <script>\n",
              "      const buttonEl =\n",
              "        document.querySelector('#df-ff071c37-8c95-4ce4-acf2-9198579125c5 button.colab-df-convert');\n",
              "      buttonEl.style.display =\n",
              "        google.colab.kernel.accessAllowed ? 'block' : 'none';\n",
              "\n",
              "      async function convertToInteractive(key) {\n",
              "        const element = document.querySelector('#df-ff071c37-8c95-4ce4-acf2-9198579125c5');\n",
              "        const dataTable =\n",
              "          await google.colab.kernel.invokeFunction('convertToInteractive',\n",
              "                                                    [key], {});\n",
              "        if (!dataTable) return;\n",
              "\n",
              "        const docLinkHtml = 'Like what you see? Visit the ' +\n",
              "          '<a target=\"_blank\" href=https://colab.research.google.com/notebooks/data_table.ipynb>data table notebook</a>'\n",
              "          + ' to learn more about interactive tables.';\n",
              "        element.innerHTML = '';\n",
              "        dataTable['output_type'] = 'display_data';\n",
              "        await google.colab.output.renderOutput(dataTable, element);\n",
              "        const docLink = document.createElement('div');\n",
              "        docLink.innerHTML = docLinkHtml;\n",
              "        element.appendChild(docLink);\n",
              "      }\n",
              "    </script>\n",
              "  </div>\n",
              "\n",
              "\n",
              "<div id=\"df-1d0c123c-7777-4d96-9d5d-fa69fde28328\">\n",
              "  <button class=\"colab-df-quickchart\" onclick=\"quickchart('df-1d0c123c-7777-4d96-9d5d-fa69fde28328')\"\n",
              "            title=\"Suggest charts\"\n",
              "            style=\"display:none;\">\n",
              "\n",
              "<svg xmlns=\"http://www.w3.org/2000/svg\" height=\"24px\"viewBox=\"0 0 24 24\"\n",
              "     width=\"24px\">\n",
              "    <g>\n",
              "        <path d=\"M19 3H5c-1.1 0-2 .9-2 2v14c0 1.1.9 2 2 2h14c1.1 0 2-.9 2-2V5c0-1.1-.9-2-2-2zM9 17H7v-7h2v7zm4 0h-2V7h2v10zm4 0h-2v-4h2v4z\"/>\n",
              "    </g>\n",
              "</svg>\n",
              "  </button>\n",
              "\n",
              "<style>\n",
              "  .colab-df-quickchart {\n",
              "      --bg-color: #E8F0FE;\n",
              "      --fill-color: #1967D2;\n",
              "      --hover-bg-color: #E2EBFA;\n",
              "      --hover-fill-color: #174EA6;\n",
              "      --disabled-fill-color: #AAA;\n",
              "      --disabled-bg-color: #DDD;\n",
              "  }\n",
              "\n",
              "  [theme=dark] .colab-df-quickchart {\n",
              "      --bg-color: #3B4455;\n",
              "      --fill-color: #D2E3FC;\n",
              "      --hover-bg-color: #434B5C;\n",
              "      --hover-fill-color: #FFFFFF;\n",
              "      --disabled-bg-color: #3B4455;\n",
              "      --disabled-fill-color: #666;\n",
              "  }\n",
              "\n",
              "  .colab-df-quickchart {\n",
              "    background-color: var(--bg-color);\n",
              "    border: none;\n",
              "    border-radius: 50%;\n",
              "    cursor: pointer;\n",
              "    display: none;\n",
              "    fill: var(--fill-color);\n",
              "    height: 32px;\n",
              "    padding: 0;\n",
              "    width: 32px;\n",
              "  }\n",
              "\n",
              "  .colab-df-quickchart:hover {\n",
              "    background-color: var(--hover-bg-color);\n",
              "    box-shadow: 0 1px 2px rgba(60, 64, 67, 0.3), 0 1px 3px 1px rgba(60, 64, 67, 0.15);\n",
              "    fill: var(--button-hover-fill-color);\n",
              "  }\n",
              "\n",
              "  .colab-df-quickchart-complete:disabled,\n",
              "  .colab-df-quickchart-complete:disabled:hover {\n",
              "    background-color: var(--disabled-bg-color);\n",
              "    fill: var(--disabled-fill-color);\n",
              "    box-shadow: none;\n",
              "  }\n",
              "\n",
              "  .colab-df-spinner {\n",
              "    border: 2px solid var(--fill-color);\n",
              "    border-color: transparent;\n",
              "    border-bottom-color: var(--fill-color);\n",
              "    animation:\n",
              "      spin 1s steps(1) infinite;\n",
              "  }\n",
              "\n",
              "  @keyframes spin {\n",
              "    0% {\n",
              "      border-color: transparent;\n",
              "      border-bottom-color: var(--fill-color);\n",
              "      border-left-color: var(--fill-color);\n",
              "    }\n",
              "    20% {\n",
              "      border-color: transparent;\n",
              "      border-left-color: var(--fill-color);\n",
              "      border-top-color: var(--fill-color);\n",
              "    }\n",
              "    30% {\n",
              "      border-color: transparent;\n",
              "      border-left-color: var(--fill-color);\n",
              "      border-top-color: var(--fill-color);\n",
              "      border-right-color: var(--fill-color);\n",
              "    }\n",
              "    40% {\n",
              "      border-color: transparent;\n",
              "      border-right-color: var(--fill-color);\n",
              "      border-top-color: var(--fill-color);\n",
              "    }\n",
              "    60% {\n",
              "      border-color: transparent;\n",
              "      border-right-color: var(--fill-color);\n",
              "    }\n",
              "    80% {\n",
              "      border-color: transparent;\n",
              "      border-right-color: var(--fill-color);\n",
              "      border-bottom-color: var(--fill-color);\n",
              "    }\n",
              "    90% {\n",
              "      border-color: transparent;\n",
              "      border-bottom-color: var(--fill-color);\n",
              "    }\n",
              "  }\n",
              "</style>\n",
              "\n",
              "  <script>\n",
              "    async function quickchart(key) {\n",
              "      const quickchartButtonEl =\n",
              "        document.querySelector('#' + key + ' button');\n",
              "      quickchartButtonEl.disabled = true;  // To prevent multiple clicks.\n",
              "      quickchartButtonEl.classList.add('colab-df-spinner');\n",
              "      try {\n",
              "        const charts = await google.colab.kernel.invokeFunction(\n",
              "            'suggestCharts', [key], {});\n",
              "      } catch (error) {\n",
              "        console.error('Error during call to suggestCharts:', error);\n",
              "      }\n",
              "      quickchartButtonEl.classList.remove('colab-df-spinner');\n",
              "      quickchartButtonEl.classList.add('colab-df-quickchart-complete');\n",
              "    }\n",
              "    (() => {\n",
              "      let quickchartButtonEl =\n",
              "        document.querySelector('#df-1d0c123c-7777-4d96-9d5d-fa69fde28328 button');\n",
              "      quickchartButtonEl.style.display =\n",
              "        google.colab.kernel.accessAllowed ? 'block' : 'none';\n",
              "    })();\n",
              "  </script>\n",
              "</div>\n",
              "\n",
              "    </div>\n",
              "  </div>\n"
            ],
            "application/vnd.google.colaboratory.intrinsic+json": {
              "type": "dataframe",
              "variable_name": "dfc",
              "repr_error": "Out of range float values are not JSON compliant: inf"
            }
          },
          "metadata": {},
          "execution_count": 43
        }
      ]
    },
    {
      "cell_type": "code",
      "source": [
        "dfc.info()"
      ],
      "metadata": {
        "id": "4RWbsLHq-R3M",
        "colab": {
          "base_uri": "https://localhost:8080/"
        },
        "outputId": "ada4f2f4-748f-428f-b3af-02bfee76af5b"
      },
      "execution_count": null,
      "outputs": [
        {
          "output_type": "stream",
          "name": "stdout",
          "text": [
            "<class 'pandas.core.frame.DataFrame'>\n",
            "RangeIndex: 545 entries, 0 to 544\n",
            "Data columns (total 11 columns):\n",
            " #   Column            Non-Null Count  Dtype  \n",
            "---  ------            --------------  -----  \n",
            " 0   title             545 non-null    object \n",
            " 1   selftext          545 non-null    object \n",
            " 2   score             545 non-null    float64\n",
            " 3   upvote_ratio      545 non-null    float64\n",
            " 4   num_comments      545 non-null    float64\n",
            " 5   scam_score        545 non-null    float64\n",
            " 6   scam_label        545 non-null    int64  \n",
            " 7   sentiment_scores  545 non-null    object \n",
            " 8   compound          545 non-null    float64\n",
            " 9   sentiment_label   545 non-null    object \n",
            " 10  Is_Scam           545 non-null    int64  \n",
            "dtypes: float64(5), int64(2), object(4)\n",
            "memory usage: 47.0+ KB\n"
          ]
        }
      ]
    },
    {
      "cell_type": "code",
      "source": [
        "# Prepare features and labels\n",
        "dfc['full_text'] = dfc['title'] + ' ' + dfc['selftext']\n",
        "x_text = dfc['full_text']\n",
        "x_numeric = dfc[['score', 'upvote_ratio', 'num_comments']]\n",
        "y = dfc['Is_Scam']"
      ],
      "metadata": {
        "id": "-8iEQXah-Rvc"
      },
      "execution_count": null,
      "outputs": []
    },
    {
      "cell_type": "code",
      "source": [
        "# Split the dataset\n",
        "x_text_train, x_text_test, x_numeric_train, x_numeric_test, y_train, y_test = train_test_split(\n",
        "    x_text, x_numeric, y, test_size=0.2, random_state=42\n",
        ")"
      ],
      "metadata": {
        "id": "WHCJu3o-_HZv"
      },
      "execution_count": null,
      "outputs": []
    },
    {
      "cell_type": "code",
      "source": [
        "# TF-IDF Vectorization\n",
        "tfidf = TfidfVectorizer(stop_words='english')\n",
        "x_text_tfidf_train = tfidf.fit_transform(x_text_train)\n",
        "x_text_tfidf_test = tfidf.transform(x_text_test)"
      ],
      "metadata": {
        "id": "Fll6xyUun-4b"
      },
      "execution_count": null,
      "outputs": []
    },
    {
      "cell_type": "code",
      "source": [
        "#-------------> Combine text and numeric features\n",
        "X_train_combined = np.hstack((x_text_tfidf_train.toarray(), x_numeric_train.values))\n",
        "X_test_combined = np.hstack((x_text_tfidf_test.toarray(), x_numeric_test.values))"
      ],
      "metadata": {
        "id": "Uud8iezqirmA"
      },
      "execution_count": null,
      "outputs": []
    },
    {
      "cell_type": "code",
      "source": [
        "# Model training\n",
        "clf = RandomForestClassifier(random_state=42)\n",
        "clf.fit(X_train_combined, y_train)"
      ],
      "metadata": {
        "id": "p51v9EmN_gU5",
        "colab": {
          "base_uri": "https://localhost:8080/",
          "height": 80
        },
        "outputId": "b50bdaff-3d08-41a8-9dc8-29b0540febae"
      },
      "execution_count": null,
      "outputs": [
        {
          "output_type": "execute_result",
          "data": {
            "text/plain": [
              "RandomForestClassifier(random_state=42)"
            ],
            "text/html": [
              "<style>#sk-container-id-1 {\n",
              "  /* Definition of color scheme common for light and dark mode */\n",
              "  --sklearn-color-text: black;\n",
              "  --sklearn-color-line: gray;\n",
              "  /* Definition of color scheme for unfitted estimators */\n",
              "  --sklearn-color-unfitted-level-0: #fff5e6;\n",
              "  --sklearn-color-unfitted-level-1: #f6e4d2;\n",
              "  --sklearn-color-unfitted-level-2: #ffe0b3;\n",
              "  --sklearn-color-unfitted-level-3: chocolate;\n",
              "  /* Definition of color scheme for fitted estimators */\n",
              "  --sklearn-color-fitted-level-0: #f0f8ff;\n",
              "  --sklearn-color-fitted-level-1: #d4ebff;\n",
              "  --sklearn-color-fitted-level-2: #b3dbfd;\n",
              "  --sklearn-color-fitted-level-3: cornflowerblue;\n",
              "\n",
              "  /* Specific color for light theme */\n",
              "  --sklearn-color-text-on-default-background: var(--sg-text-color, var(--theme-code-foreground, var(--jp-content-font-color1, black)));\n",
              "  --sklearn-color-background: var(--sg-background-color, var(--theme-background, var(--jp-layout-color0, white)));\n",
              "  --sklearn-color-border-box: var(--sg-text-color, var(--theme-code-foreground, var(--jp-content-font-color1, black)));\n",
              "  --sklearn-color-icon: #696969;\n",
              "\n",
              "  @media (prefers-color-scheme: dark) {\n",
              "    /* Redefinition of color scheme for dark theme */\n",
              "    --sklearn-color-text-on-default-background: var(--sg-text-color, var(--theme-code-foreground, var(--jp-content-font-color1, white)));\n",
              "    --sklearn-color-background: var(--sg-background-color, var(--theme-background, var(--jp-layout-color0, #111)));\n",
              "    --sklearn-color-border-box: var(--sg-text-color, var(--theme-code-foreground, var(--jp-content-font-color1, white)));\n",
              "    --sklearn-color-icon: #878787;\n",
              "  }\n",
              "}\n",
              "\n",
              "#sk-container-id-1 {\n",
              "  color: var(--sklearn-color-text);\n",
              "}\n",
              "\n",
              "#sk-container-id-1 pre {\n",
              "  padding: 0;\n",
              "}\n",
              "\n",
              "#sk-container-id-1 input.sk-hidden--visually {\n",
              "  border: 0;\n",
              "  clip: rect(1px 1px 1px 1px);\n",
              "  clip: rect(1px, 1px, 1px, 1px);\n",
              "  height: 1px;\n",
              "  margin: -1px;\n",
              "  overflow: hidden;\n",
              "  padding: 0;\n",
              "  position: absolute;\n",
              "  width: 1px;\n",
              "}\n",
              "\n",
              "#sk-container-id-1 div.sk-dashed-wrapped {\n",
              "  border: 1px dashed var(--sklearn-color-line);\n",
              "  margin: 0 0.4em 0.5em 0.4em;\n",
              "  box-sizing: border-box;\n",
              "  padding-bottom: 0.4em;\n",
              "  background-color: var(--sklearn-color-background);\n",
              "}\n",
              "\n",
              "#sk-container-id-1 div.sk-container {\n",
              "  /* jupyter's `normalize.less` sets `[hidden] { display: none; }`\n",
              "     but bootstrap.min.css set `[hidden] { display: none !important; }`\n",
              "     so we also need the `!important` here to be able to override the\n",
              "     default hidden behavior on the sphinx rendered scikit-learn.org.\n",
              "     See: https://github.com/scikit-learn/scikit-learn/issues/21755 */\n",
              "  display: inline-block !important;\n",
              "  position: relative;\n",
              "}\n",
              "\n",
              "#sk-container-id-1 div.sk-text-repr-fallback {\n",
              "  display: none;\n",
              "}\n",
              "\n",
              "div.sk-parallel-item,\n",
              "div.sk-serial,\n",
              "div.sk-item {\n",
              "  /* draw centered vertical line to link estimators */\n",
              "  background-image: linear-gradient(var(--sklearn-color-text-on-default-background), var(--sklearn-color-text-on-default-background));\n",
              "  background-size: 2px 100%;\n",
              "  background-repeat: no-repeat;\n",
              "  background-position: center center;\n",
              "}\n",
              "\n",
              "/* Parallel-specific style estimator block */\n",
              "\n",
              "#sk-container-id-1 div.sk-parallel-item::after {\n",
              "  content: \"\";\n",
              "  width: 100%;\n",
              "  border-bottom: 2px solid var(--sklearn-color-text-on-default-background);\n",
              "  flex-grow: 1;\n",
              "}\n",
              "\n",
              "#sk-container-id-1 div.sk-parallel {\n",
              "  display: flex;\n",
              "  align-items: stretch;\n",
              "  justify-content: center;\n",
              "  background-color: var(--sklearn-color-background);\n",
              "  position: relative;\n",
              "}\n",
              "\n",
              "#sk-container-id-1 div.sk-parallel-item {\n",
              "  display: flex;\n",
              "  flex-direction: column;\n",
              "}\n",
              "\n",
              "#sk-container-id-1 div.sk-parallel-item:first-child::after {\n",
              "  align-self: flex-end;\n",
              "  width: 50%;\n",
              "}\n",
              "\n",
              "#sk-container-id-1 div.sk-parallel-item:last-child::after {\n",
              "  align-self: flex-start;\n",
              "  width: 50%;\n",
              "}\n",
              "\n",
              "#sk-container-id-1 div.sk-parallel-item:only-child::after {\n",
              "  width: 0;\n",
              "}\n",
              "\n",
              "/* Serial-specific style estimator block */\n",
              "\n",
              "#sk-container-id-1 div.sk-serial {\n",
              "  display: flex;\n",
              "  flex-direction: column;\n",
              "  align-items: center;\n",
              "  background-color: var(--sklearn-color-background);\n",
              "  padding-right: 1em;\n",
              "  padding-left: 1em;\n",
              "}\n",
              "\n",
              "\n",
              "/* Toggleable style: style used for estimator/Pipeline/ColumnTransformer box that is\n",
              "clickable and can be expanded/collapsed.\n",
              "- Pipeline and ColumnTransformer use this feature and define the default style\n",
              "- Estimators will overwrite some part of the style using the `sk-estimator` class\n",
              "*/\n",
              "\n",
              "/* Pipeline and ColumnTransformer style (default) */\n",
              "\n",
              "#sk-container-id-1 div.sk-toggleable {\n",
              "  /* Default theme specific background. It is overwritten whether we have a\n",
              "  specific estimator or a Pipeline/ColumnTransformer */\n",
              "  background-color: var(--sklearn-color-background);\n",
              "}\n",
              "\n",
              "/* Toggleable label */\n",
              "#sk-container-id-1 label.sk-toggleable__label {\n",
              "  cursor: pointer;\n",
              "  display: block;\n",
              "  width: 100%;\n",
              "  margin-bottom: 0;\n",
              "  padding: 0.5em;\n",
              "  box-sizing: border-box;\n",
              "  text-align: center;\n",
              "}\n",
              "\n",
              "#sk-container-id-1 label.sk-toggleable__label-arrow:before {\n",
              "  /* Arrow on the left of the label */\n",
              "  content: \"▸\";\n",
              "  float: left;\n",
              "  margin-right: 0.25em;\n",
              "  color: var(--sklearn-color-icon);\n",
              "}\n",
              "\n",
              "#sk-container-id-1 label.sk-toggleable__label-arrow:hover:before {\n",
              "  color: var(--sklearn-color-text);\n",
              "}\n",
              "\n",
              "/* Toggleable content - dropdown */\n",
              "\n",
              "#sk-container-id-1 div.sk-toggleable__content {\n",
              "  max-height: 0;\n",
              "  max-width: 0;\n",
              "  overflow: hidden;\n",
              "  text-align: left;\n",
              "  /* unfitted */\n",
              "  background-color: var(--sklearn-color-unfitted-level-0);\n",
              "}\n",
              "\n",
              "#sk-container-id-1 div.sk-toggleable__content.fitted {\n",
              "  /* fitted */\n",
              "  background-color: var(--sklearn-color-fitted-level-0);\n",
              "}\n",
              "\n",
              "#sk-container-id-1 div.sk-toggleable__content pre {\n",
              "  margin: 0.2em;\n",
              "  border-radius: 0.25em;\n",
              "  color: var(--sklearn-color-text);\n",
              "  /* unfitted */\n",
              "  background-color: var(--sklearn-color-unfitted-level-0);\n",
              "}\n",
              "\n",
              "#sk-container-id-1 div.sk-toggleable__content.fitted pre {\n",
              "  /* unfitted */\n",
              "  background-color: var(--sklearn-color-fitted-level-0);\n",
              "}\n",
              "\n",
              "#sk-container-id-1 input.sk-toggleable__control:checked~div.sk-toggleable__content {\n",
              "  /* Expand drop-down */\n",
              "  max-height: 200px;\n",
              "  max-width: 100%;\n",
              "  overflow: auto;\n",
              "}\n",
              "\n",
              "#sk-container-id-1 input.sk-toggleable__control:checked~label.sk-toggleable__label-arrow:before {\n",
              "  content: \"▾\";\n",
              "}\n",
              "\n",
              "/* Pipeline/ColumnTransformer-specific style */\n",
              "\n",
              "#sk-container-id-1 div.sk-label input.sk-toggleable__control:checked~label.sk-toggleable__label {\n",
              "  color: var(--sklearn-color-text);\n",
              "  background-color: var(--sklearn-color-unfitted-level-2);\n",
              "}\n",
              "\n",
              "#sk-container-id-1 div.sk-label.fitted input.sk-toggleable__control:checked~label.sk-toggleable__label {\n",
              "  background-color: var(--sklearn-color-fitted-level-2);\n",
              "}\n",
              "\n",
              "/* Estimator-specific style */\n",
              "\n",
              "/* Colorize estimator box */\n",
              "#sk-container-id-1 div.sk-estimator input.sk-toggleable__control:checked~label.sk-toggleable__label {\n",
              "  /* unfitted */\n",
              "  background-color: var(--sklearn-color-unfitted-level-2);\n",
              "}\n",
              "\n",
              "#sk-container-id-1 div.sk-estimator.fitted input.sk-toggleable__control:checked~label.sk-toggleable__label {\n",
              "  /* fitted */\n",
              "  background-color: var(--sklearn-color-fitted-level-2);\n",
              "}\n",
              "\n",
              "#sk-container-id-1 div.sk-label label.sk-toggleable__label,\n",
              "#sk-container-id-1 div.sk-label label {\n",
              "  /* The background is the default theme color */\n",
              "  color: var(--sklearn-color-text-on-default-background);\n",
              "}\n",
              "\n",
              "/* On hover, darken the color of the background */\n",
              "#sk-container-id-1 div.sk-label:hover label.sk-toggleable__label {\n",
              "  color: var(--sklearn-color-text);\n",
              "  background-color: var(--sklearn-color-unfitted-level-2);\n",
              "}\n",
              "\n",
              "/* Label box, darken color on hover, fitted */\n",
              "#sk-container-id-1 div.sk-label.fitted:hover label.sk-toggleable__label.fitted {\n",
              "  color: var(--sklearn-color-text);\n",
              "  background-color: var(--sklearn-color-fitted-level-2);\n",
              "}\n",
              "\n",
              "/* Estimator label */\n",
              "\n",
              "#sk-container-id-1 div.sk-label label {\n",
              "  font-family: monospace;\n",
              "  font-weight: bold;\n",
              "  display: inline-block;\n",
              "  line-height: 1.2em;\n",
              "}\n",
              "\n",
              "#sk-container-id-1 div.sk-label-container {\n",
              "  text-align: center;\n",
              "}\n",
              "\n",
              "/* Estimator-specific */\n",
              "#sk-container-id-1 div.sk-estimator {\n",
              "  font-family: monospace;\n",
              "  border: 1px dotted var(--sklearn-color-border-box);\n",
              "  border-radius: 0.25em;\n",
              "  box-sizing: border-box;\n",
              "  margin-bottom: 0.5em;\n",
              "  /* unfitted */\n",
              "  background-color: var(--sklearn-color-unfitted-level-0);\n",
              "}\n",
              "\n",
              "#sk-container-id-1 div.sk-estimator.fitted {\n",
              "  /* fitted */\n",
              "  background-color: var(--sklearn-color-fitted-level-0);\n",
              "}\n",
              "\n",
              "/* on hover */\n",
              "#sk-container-id-1 div.sk-estimator:hover {\n",
              "  /* unfitted */\n",
              "  background-color: var(--sklearn-color-unfitted-level-2);\n",
              "}\n",
              "\n",
              "#sk-container-id-1 div.sk-estimator.fitted:hover {\n",
              "  /* fitted */\n",
              "  background-color: var(--sklearn-color-fitted-level-2);\n",
              "}\n",
              "\n",
              "/* Specification for estimator info (e.g. \"i\" and \"?\") */\n",
              "\n",
              "/* Common style for \"i\" and \"?\" */\n",
              "\n",
              ".sk-estimator-doc-link,\n",
              "a:link.sk-estimator-doc-link,\n",
              "a:visited.sk-estimator-doc-link {\n",
              "  float: right;\n",
              "  font-size: smaller;\n",
              "  line-height: 1em;\n",
              "  font-family: monospace;\n",
              "  background-color: var(--sklearn-color-background);\n",
              "  border-radius: 1em;\n",
              "  height: 1em;\n",
              "  width: 1em;\n",
              "  text-decoration: none !important;\n",
              "  margin-left: 1ex;\n",
              "  /* unfitted */\n",
              "  border: var(--sklearn-color-unfitted-level-1) 1pt solid;\n",
              "  color: var(--sklearn-color-unfitted-level-1);\n",
              "}\n",
              "\n",
              ".sk-estimator-doc-link.fitted,\n",
              "a:link.sk-estimator-doc-link.fitted,\n",
              "a:visited.sk-estimator-doc-link.fitted {\n",
              "  /* fitted */\n",
              "  border: var(--sklearn-color-fitted-level-1) 1pt solid;\n",
              "  color: var(--sklearn-color-fitted-level-1);\n",
              "}\n",
              "\n",
              "/* On hover */\n",
              "div.sk-estimator:hover .sk-estimator-doc-link:hover,\n",
              ".sk-estimator-doc-link:hover,\n",
              "div.sk-label-container:hover .sk-estimator-doc-link:hover,\n",
              ".sk-estimator-doc-link:hover {\n",
              "  /* unfitted */\n",
              "  background-color: var(--sklearn-color-unfitted-level-3);\n",
              "  color: var(--sklearn-color-background);\n",
              "  text-decoration: none;\n",
              "}\n",
              "\n",
              "div.sk-estimator.fitted:hover .sk-estimator-doc-link.fitted:hover,\n",
              ".sk-estimator-doc-link.fitted:hover,\n",
              "div.sk-label-container:hover .sk-estimator-doc-link.fitted:hover,\n",
              ".sk-estimator-doc-link.fitted:hover {\n",
              "  /* fitted */\n",
              "  background-color: var(--sklearn-color-fitted-level-3);\n",
              "  color: var(--sklearn-color-background);\n",
              "  text-decoration: none;\n",
              "}\n",
              "\n",
              "/* Span, style for the box shown on hovering the info icon */\n",
              ".sk-estimator-doc-link span {\n",
              "  display: none;\n",
              "  z-index: 9999;\n",
              "  position: relative;\n",
              "  font-weight: normal;\n",
              "  right: .2ex;\n",
              "  padding: .5ex;\n",
              "  margin: .5ex;\n",
              "  width: min-content;\n",
              "  min-width: 20ex;\n",
              "  max-width: 50ex;\n",
              "  color: var(--sklearn-color-text);\n",
              "  box-shadow: 2pt 2pt 4pt #999;\n",
              "  /* unfitted */\n",
              "  background: var(--sklearn-color-unfitted-level-0);\n",
              "  border: .5pt solid var(--sklearn-color-unfitted-level-3);\n",
              "}\n",
              "\n",
              ".sk-estimator-doc-link.fitted span {\n",
              "  /* fitted */\n",
              "  background: var(--sklearn-color-fitted-level-0);\n",
              "  border: var(--sklearn-color-fitted-level-3);\n",
              "}\n",
              "\n",
              ".sk-estimator-doc-link:hover span {\n",
              "  display: block;\n",
              "}\n",
              "\n",
              "/* \"?\"-specific style due to the `<a>` HTML tag */\n",
              "\n",
              "#sk-container-id-1 a.estimator_doc_link {\n",
              "  float: right;\n",
              "  font-size: 1rem;\n",
              "  line-height: 1em;\n",
              "  font-family: monospace;\n",
              "  background-color: var(--sklearn-color-background);\n",
              "  border-radius: 1rem;\n",
              "  height: 1rem;\n",
              "  width: 1rem;\n",
              "  text-decoration: none;\n",
              "  /* unfitted */\n",
              "  color: var(--sklearn-color-unfitted-level-1);\n",
              "  border: var(--sklearn-color-unfitted-level-1) 1pt solid;\n",
              "}\n",
              "\n",
              "#sk-container-id-1 a.estimator_doc_link.fitted {\n",
              "  /* fitted */\n",
              "  border: var(--sklearn-color-fitted-level-1) 1pt solid;\n",
              "  color: var(--sklearn-color-fitted-level-1);\n",
              "}\n",
              "\n",
              "/* On hover */\n",
              "#sk-container-id-1 a.estimator_doc_link:hover {\n",
              "  /* unfitted */\n",
              "  background-color: var(--sklearn-color-unfitted-level-3);\n",
              "  color: var(--sklearn-color-background);\n",
              "  text-decoration: none;\n",
              "}\n",
              "\n",
              "#sk-container-id-1 a.estimator_doc_link.fitted:hover {\n",
              "  /* fitted */\n",
              "  background-color: var(--sklearn-color-fitted-level-3);\n",
              "}\n",
              "</style><div id=\"sk-container-id-1\" class=\"sk-top-container\"><div class=\"sk-text-repr-fallback\"><pre>RandomForestClassifier(random_state=42)</pre><b>In a Jupyter environment, please rerun this cell to show the HTML representation or trust the notebook. <br />On GitHub, the HTML representation is unable to render, please try loading this page with nbviewer.org.</b></div><div class=\"sk-container\" hidden><div class=\"sk-item\"><div class=\"sk-estimator fitted sk-toggleable\"><input class=\"sk-toggleable__control sk-hidden--visually\" id=\"sk-estimator-id-1\" type=\"checkbox\" checked><label for=\"sk-estimator-id-1\" class=\"sk-toggleable__label fitted sk-toggleable__label-arrow fitted\">&nbsp;&nbsp;RandomForestClassifier<a class=\"sk-estimator-doc-link fitted\" rel=\"noreferrer\" target=\"_blank\" href=\"https://scikit-learn.org/1.5/modules/generated/sklearn.ensemble.RandomForestClassifier.html\">?<span>Documentation for RandomForestClassifier</span></a><span class=\"sk-estimator-doc-link fitted\">i<span>Fitted</span></span></label><div class=\"sk-toggleable__content fitted\"><pre>RandomForestClassifier(random_state=42)</pre></div> </div></div></div></div>"
            ]
          },
          "metadata": {},
          "execution_count": 49
        }
      ]
    },
    {
      "cell_type": "code",
      "source": [
        "# Predictions\n",
        "y_pred = clf.predict(X_test_combined)"
      ],
      "metadata": {
        "id": "ng79wOt2o0Xc"
      },
      "execution_count": null,
      "outputs": []
    },
    {
      "cell_type": "code",
      "source": [
        "y_test"
      ],
      "metadata": {
        "id": "WdVZqECz_nTM",
        "colab": {
          "base_uri": "https://localhost:8080/",
          "height": 458
        },
        "outputId": "f5eecc59-7d5f-4b84-d610-e6e15ce5405a"
      },
      "execution_count": null,
      "outputs": [
        {
          "output_type": "execute_result",
          "data": {
            "text/plain": [
              "316    1\n",
              "77     1\n",
              "360    1\n",
              "90     1\n",
              "493    1\n",
              "      ..\n",
              "15     0\n",
              "357    0\n",
              "39     1\n",
              "54     0\n",
              "155    0\n",
              "Name: Is_Scam, Length: 109, dtype: int64"
            ],
            "text/html": [
              "<div>\n",
              "<style scoped>\n",
              "    .dataframe tbody tr th:only-of-type {\n",
              "        vertical-align: middle;\n",
              "    }\n",
              "\n",
              "    .dataframe tbody tr th {\n",
              "        vertical-align: top;\n",
              "    }\n",
              "\n",
              "    .dataframe thead th {\n",
              "        text-align: right;\n",
              "    }\n",
              "</style>\n",
              "<table border=\"1\" class=\"dataframe\">\n",
              "  <thead>\n",
              "    <tr style=\"text-align: right;\">\n",
              "      <th></th>\n",
              "      <th>Is_Scam</th>\n",
              "    </tr>\n",
              "  </thead>\n",
              "  <tbody>\n",
              "    <tr>\n",
              "      <th>316</th>\n",
              "      <td>1</td>\n",
              "    </tr>\n",
              "    <tr>\n",
              "      <th>77</th>\n",
              "      <td>1</td>\n",
              "    </tr>\n",
              "    <tr>\n",
              "      <th>360</th>\n",
              "      <td>1</td>\n",
              "    </tr>\n",
              "    <tr>\n",
              "      <th>90</th>\n",
              "      <td>1</td>\n",
              "    </tr>\n",
              "    <tr>\n",
              "      <th>493</th>\n",
              "      <td>1</td>\n",
              "    </tr>\n",
              "    <tr>\n",
              "      <th>...</th>\n",
              "      <td>...</td>\n",
              "    </tr>\n",
              "    <tr>\n",
              "      <th>15</th>\n",
              "      <td>0</td>\n",
              "    </tr>\n",
              "    <tr>\n",
              "      <th>357</th>\n",
              "      <td>0</td>\n",
              "    </tr>\n",
              "    <tr>\n",
              "      <th>39</th>\n",
              "      <td>1</td>\n",
              "    </tr>\n",
              "    <tr>\n",
              "      <th>54</th>\n",
              "      <td>0</td>\n",
              "    </tr>\n",
              "    <tr>\n",
              "      <th>155</th>\n",
              "      <td>0</td>\n",
              "    </tr>\n",
              "  </tbody>\n",
              "</table>\n",
              "<p>109 rows × 1 columns</p>\n",
              "</div><br><label><b>dtype:</b> int64</label>"
            ]
          },
          "metadata": {},
          "execution_count": 51
        }
      ]
    },
    {
      "cell_type": "code",
      "source": [
        "accuracy=accuracy_score(y_test,y_pred)\n",
        "accuracy"
      ],
      "metadata": {
        "id": "MPwa-m-F_pYQ",
        "colab": {
          "base_uri": "https://localhost:8080/"
        },
        "outputId": "a2afd66f-12a3-41b5-f7a5-601a74793f76"
      },
      "execution_count": null,
      "outputs": [
        {
          "output_type": "execute_result",
          "data": {
            "text/plain": [
              "0.6972477064220184"
            ]
          },
          "metadata": {},
          "execution_count": 52
        }
      ]
    },
    {
      "cell_type": "code",
      "source": [
        "precision=precision_score(y_test,y_pred)\n",
        "precision"
      ],
      "metadata": {
        "id": "rBfYuc5F_udF",
        "colab": {
          "base_uri": "https://localhost:8080/"
        },
        "outputId": "d04a4c66-e8e3-4f27-c53a-183d30d50bc2"
      },
      "execution_count": null,
      "outputs": [
        {
          "output_type": "execute_result",
          "data": {
            "text/plain": [
              "0.691358024691358"
            ]
          },
          "metadata": {},
          "execution_count": 53
        }
      ]
    },
    {
      "cell_type": "code",
      "source": [
        "recall=recall_score(y_test,y_pred)\n",
        "recall"
      ],
      "metadata": {
        "id": "s9OXCfXW_w02",
        "colab": {
          "base_uri": "https://localhost:8080/"
        },
        "outputId": "04a58591-d01c-409f-c8cb-5bd9fbfa1ccc"
      },
      "execution_count": null,
      "outputs": [
        {
          "output_type": "execute_result",
          "data": {
            "text/plain": [
              "0.875"
            ]
          },
          "metadata": {},
          "execution_count": 54
        }
      ]
    },
    {
      "cell_type": "code",
      "source": [
        "f1=f1_score(y_test,y_pred)\n",
        "f1"
      ],
      "metadata": {
        "id": "P7i4IQAn_0K5",
        "colab": {
          "base_uri": "https://localhost:8080/"
        },
        "outputId": "40ba0a50-77ec-4b9e-b359-2764aad6baf8"
      },
      "execution_count": null,
      "outputs": [
        {
          "output_type": "execute_result",
          "data": {
            "text/plain": [
              "0.7724137931034483"
            ]
          },
          "metadata": {},
          "execution_count": 55
        }
      ]
    },
    {
      "cell_type": "code",
      "source": [
        "print(f\"Accuracy: {accuracy:.2f}\")\n",
        "print(f\"Precision: {precision:.2f}\")\n",
        "print(f\"Recall: {recall:.2f}\")\n",
        "print(f\"F1 Score: {f1:.2f}\")"
      ],
      "metadata": {
        "id": "4rZ7hRCV_6dR",
        "colab": {
          "base_uri": "https://localhost:8080/"
        },
        "outputId": "4d474752-655c-422a-8182-0de60806a596"
      },
      "execution_count": null,
      "outputs": [
        {
          "output_type": "stream",
          "name": "stdout",
          "text": [
            "Accuracy: 0.70\n",
            "Precision: 0.69\n",
            "Recall: 0.88\n",
            "F1 Score: 0.77\n"
          ]
        }
      ]
    },
    {
      "cell_type": "markdown",
      "source": [
        "# ***Model Evaluation and Deployment***"
      ],
      "metadata": {
        "id": "tNZAEh9a9b6X"
      }
    },
    {
      "cell_type": "code",
      "source": [
        "# Confusion Matrix\n",
        "cm = confusion_matrix(y_test, y_pred)\n",
        "\n",
        "plt.figure(figsize=(6, 5))\n",
        "sns.heatmap(cm, annot=True, fmt='d', cmap='Blues', xticklabels=['Not Scam', 'Scam'], yticklabels=['Not Scam', 'Scam'])\n",
        "plt.xlabel('Predicted')\n",
        "plt.ylabel('True')\n",
        "plt.title('Confusion Matrix')\n",
        "plt.show()"
      ],
      "metadata": {
        "id": "M0WvABxn-KiH",
        "colab": {
          "base_uri": "https://localhost:8080/",
          "height": 487
        },
        "outputId": "74e7fdca-e163-4155-83ca-f33056244b18"
      },
      "execution_count": null,
      "outputs": [
        {
          "output_type": "display_data",
          "data": {
            "text/plain": [
              "<Figure size 600x500 with 2 Axes>"
            ],
            "image/png": "[encoded data removed]"
          },
          "metadata": {}
        }
      ]
    },
    {
      "cell_type": "code",
      "source": [
        "report = classification_report(y_test, y_pred)\n",
        "print(\"Classification Report:\")\n",
        "print(report)"
      ],
      "metadata": {
        "id": "-FOQz6ZVDdfn",
        "colab": {
          "base_uri": "https://localhost:8080/"
        },
        "outputId": "3402b5a2-5bc5-46f8-d967-2e3b4068f6ec"
      },
      "execution_count": null,
      "outputs": [
        {
          "output_type": "stream",
          "name": "stdout",
          "text": [
            "Classification Report:\n",
            "              precision    recall  f1-score   support\n",
            "\n",
            "           0       0.71      0.44      0.55        45\n",
            "           1       0.69      0.88      0.77        64\n",
            "\n",
            "    accuracy                           0.70       109\n",
            "   macro avg       0.70      0.66      0.66       109\n",
            "weighted avg       0.70      0.70      0.68       109\n",
            "\n"
          ]
        }
      ]
    },
    {
      "cell_type": "code",
      "source": [
        "# Calculate predicted probabilities\n",
        "y_pred_proba = clf.predict_proba(X_test_combined)[:, 1]\n",
        "\n",
        "# Compute the ROC curve\n",
        "fpr, tpr, thresholds = roc_curve(y_test, y_pred_proba)\n",
        "\n",
        "# Compute AUC score\n",
        "roc_auc = auc(fpr, tpr)"
      ],
      "metadata": {
        "id": "P30SMaNBDjl5"
      },
      "execution_count": null,
      "outputs": []
    },
    {
      "cell_type": "code",
      "source": [
        "plt.figure(figsize=(6, 5))\n",
        "plt.plot(fpr, tpr, color='darkorange', lw=2, label=f'ROC curve (AUC = {roc_auc:.2f})')\n",
        "plt.plot([0, 1], [0, 1], color='navy', lw=2, linestyle='--')\n",
        "plt.xlim([0.0, 1.0])\n",
        "plt.ylim([0.0, 1.05])\n",
        "plt.xlabel('False Positive Rate')\n",
        "plt.ylabel('True Positive Rate')\n",
        "plt.title('Receiver Operating Characteristic (ROC) Curve')\n",
        "plt.legend(loc=\"lower right\")\n",
        "plt.show()"
      ],
      "metadata": {
        "id": "SnWF7KQ8Ggi8",
        "colab": {
          "base_uri": "https://localhost:8080/",
          "height": 487
        },
        "outputId": "2e71205c-4cfe-4dd5-dd03-2ca0005c5682"
      },
      "execution_count": null,
      "outputs": [
        {
          "output_type": "display_data",
          "data": {
            "text/plain": [
              "<Figure size 600x500 with 1 Axes>"
            ],
            "image/png": "[encoded data removed]"
          },
          "metadata": {}
        }
      ]
    },
    {
      "cell_type": "code",
      "source": [
        "print(f\"Accuracy: {accuracy:.2f}\")\n",
        "print(f\"Precision: {precision:.2f}\")\n",
        "print(f\"Recall: {recall:.2f}\")\n",
        "print(f\"F1 Score: {f1:.2f}\")"
      ],
      "metadata": {
        "id": "inITXhWSDkOP",
        "colab": {
          "base_uri": "https://localhost:8080/"
        },
        "outputId": "4f63b63c-4f05-43f5-ef8d-08e84c46aaa2"
      },
      "execution_count": null,
      "outputs": [
        {
          "output_type": "stream",
          "name": "stdout",
          "text": [
            "Accuracy: 0.70\n",
            "Precision: 0.69\n",
            "Recall: 0.88\n",
            "F1 Score: 0.77\n"
          ]
        }
      ]
    },
    {
      "cell_type": "markdown",
      "source": [
        "**checking the compatibility between the input data**"
      ],
      "metadata": {
        "id": "Qui2-mglrb54"
      }
    },
    {
      "cell_type": "code",
      "source": [
        "text_vector = tfidf.transform(x_text_test)\n",
        "scam_model = RandomForestClassifier(random_state=42)\n",
        "scam_model.fit(X_train_combined, y_train)\n",
        "\n",
        "print(\"Sample text data for testing:\")\n",
        "print(x_text_test.head())\n",
        "print(\"\\nSample numeric data for testing:\")\n",
        "print(x_numeric_test.head())"
      ],
      "metadata": {
        "colab": {
          "base_uri": "https://localhost:8080/"
        },
        "id": "GWHsUW9BqEoG",
        "outputId": "2c17c51a-6476-4e02-85d2-a7463ed15a1a"
      },
      "execution_count": null,
      "outputs": [
        {
          "output_type": "stream",
          "name": "stdout",
          "text": [
            "Sample text data for testing:\n",
            "316    massive increase in crypto scam adds on youtub...\n",
            "77     i gave my personal info to a usps scam what to...\n",
            "360    whats the point of this scam  i just got a pet...\n",
            "90     realty scam but maybe within a scam i have a v...\n",
            "493    franky shaw please dont waste your money on hi...\n",
            "Name: full_text, dtype: object\n",
            "\n",
            "Sample numeric data for testing:\n",
            "        score  upvote_ratio  num_comments\n",
            "316  0.012512      0.876404      0.046610\n",
            "77   0.000000      0.213483      0.042373\n",
            "360  0.000000      0.359551      0.008475\n",
            "90   0.000463      0.516854      0.006356\n",
            "493  0.000000      0.348315      0.025424\n"
          ]
        }
      ]
    },
    {
      "cell_type": "code",
      "source": [
        "# Combine text features with numeric features if applicable\n",
        "test_combined = np.hstack((text_vector.toarray(), x_numeric_test.values))\n",
        "\n",
        "# Check input shape compatibility\n",
        "print(f\"Train data shape: {X_train_combined.shape}\")\n",
        "print(f\"Test data shape: {test_combined.shape}\")\n",
        "print(\"Input shape:\", test_combined.shape)\n",
        "print(f\"Model expects {clf.n_features_in_} features.\")\n",
        "assert test_combined.shape[1] == scam_model.n_features_in_, \"Feature mismatch!\""
      ],
      "metadata": {
        "colab": {
          "base_uri": "https://localhost:8080/"
        },
        "id": "hcxrze9drWWM",
        "outputId": "53666164-f5d6-4beb-9c0e-d1e555a10888"
      },
      "execution_count": null,
      "outputs": [
        {
          "output_type": "stream",
          "name": "stdout",
          "text": [
            "Train data shape: (436, 6157)\n",
            "Test data shape: (109, 6157)\n",
            "Input shape: (109, 6157)\n",
            "Model expects 6157 features.\n"
          ]
        }
      ]
    },
    {
      "cell_type": "markdown",
      "source": [
        "#XGBoost"
      ],
      "metadata": {
        "id": "kRhX0PyL6Xdu"
      }
    },
    {
      "cell_type": "code",
      "source": [
        "!pip install xgboost"
      ],
      "metadata": {
        "colab": {
          "base_uri": "https://localhost:8080/"
        },
        "id": "9kSAwGfu6bmu",
        "outputId": "52d77adb-b35b-49e8-d3c8-835f665b0d8d"
      },
      "execution_count": null,
      "outputs": [
        {
          "output_type": "stream",
          "name": "stdout",
          "text": [
            "Requirement already satisfied: xgboost in /usr/local/lib/python3.10/dist-packages (2.1.3)\n",
            "Requirement already satisfied: numpy in /usr/local/lib/python3.10/dist-packages (from xgboost) (1.26.4)\n",
            "Requirement already satisfied: nvidia-nccl-cu12 in /usr/local/lib/python3.10/dist-packages (from xgboost) (2.23.4)\n",
            "Requirement already satisfied: scipy in /usr/local/lib/python3.10/dist-packages (from xgboost) (1.13.1)\n"
          ]
        }
      ]
    },
    {
      "cell_type": "code",
      "source": [
        "# Import libraries\n",
        "from xgboost import XGBClassifier\n",
        "from sklearn.metrics import accuracy_score, precision_score, recall_score, f1_score, roc_auc_score, confusion_matrix, classification_report"
      ],
      "metadata": {
        "id": "FJ1Lv_mU7BuQ"
      },
      "execution_count": null,
      "outputs": []
    },
    {
      "cell_type": "code",
      "source": [
        "# Initialize the XGBoost classifier\n",
        "xgb_model = XGBClassifier(\n",
        "    n_estimators=100,\n",
        "    learning_rate=0.1,\n",
        "    max_depth=6,\n",
        "    random_state=42,\n",
        "    use_label_encoder=False\n",
        ")"
      ],
      "metadata": {
        "id": "eci0LZT37MMt"
      },
      "execution_count": null,
      "outputs": []
    },
    {
      "cell_type": "code",
      "source": [
        "# Train the model\n",
        "xgb_model.fit(X_train_combined, y_train)\n",
        "\n",
        "# Predict on test data\n",
        "y_pred = xgb_model.predict(X_test_combined)\n",
        "y_pred_proba = xgb_model.predict_proba(X_test_combined)[:, 1]  # For ROC AUC or probability thresholding"
      ],
      "metadata": {
        "colab": {
          "base_uri": "https://localhost:8080/"
        },
        "id": "3lmB95Dn7Wlz",
        "outputId": "917db4d0-2cb5-4cab-f23e-170a1aa2f7c5"
      },
      "execution_count": null,
      "outputs": [
        {
          "output_type": "stream",
          "name": "stderr",
          "text": [
            "/usr/local/lib/python3.10/dist-packages/xgboost/core.py:158: UserWarning: [15:40:16] WARNING: /workspace/src/learner.cc:740: \n",
            "Parameters: { \"use_label_encoder\" } are not used.\n",
            "\n",
            "  warnings.warn(smsg, UserWarning)\n"
          ]
        }
      ]
    },
    {
      "cell_type": "code",
      "source": [
        "# Evaluate the model\n",
        "accuracy = accuracy_score(y_test, y_pred)\n",
        "precision = precision_score(y_test, y_pred)\n",
        "recall = recall_score(y_test, y_pred)\n",
        "f1 = f1_score(y_test, y_pred)\n",
        "roc_auc = roc_auc_score(y_test, y_pred_proba)\n",
        "\n",
        "# Print evaluation metrics\n",
        "print(\"Accuracy:\", accuracy)\n",
        "print(\"Precision:\", precision)\n",
        "print(\"Recall:\", recall)\n",
        "print(\"F1 Score:\", f1)\n",
        "print(\"ROC AUC Score:\", roc_auc)"
      ],
      "metadata": {
        "colab": {
          "base_uri": "https://localhost:8080/"
        },
        "id": "p7jcs-Hh7eJG",
        "outputId": "2d9a14fb-a38a-4d90-c91f-dfb08c614c41"
      },
      "execution_count": null,
      "outputs": [
        {
          "output_type": "stream",
          "name": "stdout",
          "text": [
            "Accuracy: 0.7155963302752294\n",
            "Precision: 0.726027397260274\n",
            "Recall: 0.828125\n",
            "F1 Score: 0.7737226277372263\n",
            "ROC AUC Score: 0.7326388888888888\n"
          ]
        }
      ]
    },
    {
      "cell_type": "code",
      "source": [
        "# Confusion Matrix\n",
        "conf_matrix = confusion_matrix(y_test, y_pred)\n",
        "print(\"\\nConfusion Matrix:\\n\", conf_matrix)\n",
        "\n",
        "# Classification Report\n",
        "print(\"\\nClassification Report:\\n\", classification_report(y_test, y_pred))"
      ],
      "metadata": {
        "colab": {
          "base_uri": "https://localhost:8080/"
        },
        "id": "4BuZ96DE7l9X",
        "outputId": "e9b676fb-f3b0-4fff-bcf9-f7a499216105"
      },
      "execution_count": null,
      "outputs": [
        {
          "output_type": "stream",
          "name": "stdout",
          "text": [
            "\n",
            "Confusion Matrix:\n",
            " [[25 20]\n",
            " [11 53]]\n",
            "\n",
            "Classification Report:\n",
            "               precision    recall  f1-score   support\n",
            "\n",
            "           0       0.69      0.56      0.62        45\n",
            "           1       0.73      0.83      0.77        64\n",
            "\n",
            "    accuracy                           0.72       109\n",
            "   macro avg       0.71      0.69      0.70       109\n",
            "weighted avg       0.71      0.72      0.71       109\n",
            "\n"
          ]
        }
      ]
    },
    {
      "cell_type": "code",
      "source": [
        "# Plot ROC Curve\n",
        "import matplotlib.pyplot as plt\n",
        "from sklearn.metrics import roc_curve\n",
        "\n",
        "fpr, tpr, thresholds = roc_curve(y_test, y_pred_proba)\n",
        "plt.figure(figsize=(8, 6))\n",
        "plt.plot(fpr, tpr, label=f\"XGBoost (AUC = {roc_auc:.2f})\")\n",
        "plt.plot([0, 1], [0, 1], linestyle='--', color='gray')\n",
        "plt.xlabel(\"False Positive Rate\")\n",
        "plt.ylabel(\"True Positive Rate\")\n",
        "plt.title(\"ROC Curve\")\n",
        "plt.legend()\n",
        "plt.grid()\n",
        "plt.show()"
      ],
      "metadata": {
        "colab": {
          "base_uri": "https://localhost:8080/",
          "height": 564
        },
        "id": "DleweQs47sFM",
        "outputId": "d80e884e-15a4-4c4a-d91f-7da70197e317"
      },
      "execution_count": null,
      "outputs": [
        {
          "output_type": "display_data",
          "data": {
            "text/plain": [
              "<Figure size 800x600 with 1 Axes>"
            ],
            "image/png": "[encoded data removed]"
          },
          "metadata": {}
        }
      ]
    },
    {
      "cell_type": "code",
      "source": [
        "import joblib\n",
        "\n",
        "# Save the trained model and TF-IDF vectorizer\n",
        "joblib.dump(xgb_model, \"xgboost_model.pkl\")\n",
        "joblib.dump(tfidf, \"tfidf_vectorizer_xgboost.pkl\")"
      ],
      "metadata": {
        "colab": {
          "base_uri": "https://localhost:8080/"
        },
        "id": "3G1-9IH57r3p",
        "outputId": "4eb26a5c-eec6-4214-a225-945fb3c01d9e"
      },
      "execution_count": null,
      "outputs": [
        {
          "output_type": "execute_result",
          "data": {
            "text/plain": [
              "['tfidf_vectorizer_xgboost.pkl']"
            ]
          },
          "metadata": {},
          "execution_count": 82
        }
      ]
    },
    {
      "cell_type": "code",
      "source": [],
      "metadata": {
        "id": "ctaWiA2R7rnY"
      },
      "execution_count": null,
      "outputs": []
    },
    {
      "cell_type": "code",
      "source": [
        "import joblib   # Save the model"
      ],
      "metadata": {
        "id": "fcSZ-yr-DmUk"
      },
      "execution_count": null,
      "outputs": []
    },
    {
      "cell_type": "code",
      "source": [
        "joblib.dump(clf, 'scam_detection_model.pkl')\n",
        "joblib.dump(tfidf, 'tfidf_vectorizer.pkl')"
      ],
      "metadata": {
        "id": "zReQfqcDGs4f",
        "colab": {
          "base_uri": "https://localhost:8080/"
        },
        "outputId": "46e0e916-224e-4df5-b4f3-8134e9d2ef85"
      },
      "execution_count": null,
      "outputs": [
        {
          "output_type": "execute_result",
          "data": {
            "text/plain": [
              "['tfidf_vectorizer.pkl']"
            ]
          },
          "metadata": {},
          "execution_count": 76
        }
      ]
    },
    {
      "cell_type": "code",
      "source": [
        "rf_model = joblib.load('scam_detection_model.pkl')\n",
        "tfidf_model = joblib.load('tfidf_vectorizer.pkl')"
      ],
      "metadata": {
        "id": "41WMs1vDDoG-"
      },
      "execution_count": null,
      "outputs": []
    },
    {
      "cell_type": "code",
      "source": [
        "new_post = \"Congratulations! You've won a free gift card.\"\n",
        "new_text_tfidf = tfidf_model.transform([new_post])\n",
        "new_features = np.hstack((new_text_tfidf.toarray(), np.array([[0.8, 0.9, 100]])))\n",
        "prediction = rf_model.predict(new_features)\n",
        "print(\"Prediction:\", \"Scam\" if prediction[0] == 1 else \"Not Scam\")"
      ],
      "metadata": {
        "id": "r-kNB69DGyl4",
        "colab": {
          "base_uri": "https://localhost:8080/"
        },
        "outputId": "5245c249-e240-490d-884a-23c96b4a3ea3"
      },
      "execution_count": null,
      "outputs": [
        {
          "output_type": "stream",
          "name": "stdout",
          "text": [
            "Prediction: Scam\n"
          ]
        }
      ]
    },
    {
      "cell_type": "markdown",
      "source": [],
      "metadata": {
        "id": "PcqhA0KED4iT"
      }
    },
    {
      "cell_type": "code",
      "source": [
        "# str1 = '{2}, {1} and {0}'.format('a', 'b', 'c')\n",
        "# str2 = '{0}{1}{0}'.format('abrc', 'cad')\n",
        "# print(str1, str2)\n",
        "# a = 2\n",
        "# b = '3.77'\n",
        "# c = -8\n",
        "# str1 = '{0:.4f} {0:3d} {2} {1}'.format(a, b, c)\n",
        "# print(str1)\n",
        "line = \"I'll come by then.\"\n",
        "eline = \"\"\n",
        "for i in line:\n",
        "    eline += chr(ord(i)+3)\n",
        "print(eline)"
      ],
      "metadata": {
        "id": "r4ccjhcL8xO2",
        "colab": {
          "base_uri": "https://localhost:8080/"
        },
        "outputId": "fae05b88-e6cb-4c70-8be3-2e795a92cb00"
      },
      "execution_count": null,
      "outputs": [
        {
          "output_type": "stream",
          "name": "stdout",
          "text": [
            "L*oo#frph#e|#wkhq1\n"
          ]
        }
      ]
    },
    {
      "cell_type": "code",
      "source": [
        "import pandas as pd\n",
        "from sklearn.model_selection import train_test_split, GridSearchCV\n",
        "from sklearn.ensemble import GradientBoostingRegressor\n",
        "from sklearn.preprocessing import OneHotEncoder\n",
        "from sklearn.compose import ColumnTransformer\n",
        "from sklearn.pipeline import Pipeline\n",
        "from sklearn.metrics import mean_absolute_error, r2_score\n",
        "import matplotlib.pyplot as plt\n",
        "\n",
        "# Load the dataset\n",
        "data_path =\"C:\\Users\\bharg\\Downloads\\Rotten_Tomatoes_Movies3 (1).xlsx\"\n",
        "df = pd.read_excel(data_path)\n",
        "\n",
        "# Handle missing values\n",
        "numeric_columns = ['audience_rating', 'runtime_in_minutes']\n",
        "for col in numeric_columns:\n",
        "    df[col] = df[col].fillna(df[col].mean())\n",
        "\n",
        "categorical_columns = ['genre', 'directors', 'writers', 'studio_name']\n",
        "for col in categorical_columns:\n",
        "    df[col] = df[col].fillna('Unknown')\n",
        "\n",
        "# Drop less relevant columns\n",
        "columns_to_drop = ['movie_info', 'critics_consensus', 'cast', 'in_theaters_date', 'on_streaming_date', 'movie_title']\n",
        "df.drop(columns=columns_to_drop, inplace=True)\n",
        "\n",
        "# Define features and target\n",
        "features = [col for col in df.columns if col != 'audience_rating']\n",
        "target = 'audience_rating'\n",
        "X = df[features]\n",
        "y = df[target]\n",
        "\n",
        "# Split the data into training and testing sets\n",
        "X_train, X_test, y_train, y_test = train_test_split(X, y, test_size=0.2, random_state=42)\n",
        "\n",
        "# Preprocessing pipeline: OneHotEncoding for categorical variables\n",
        "categorical_features = ['rating', 'genre', 'directors', 'writers', 'studio_name', 'tomatometer_status']\n",
        "preprocessor = ColumnTransformer(\n",
        "    transformers=[\n",
        "        ('cat', OneHotEncoder(handle_unknown='ignore', max_categories=20), categorical_features)\n",
        "    ],\n",
        "    remainder='passthrough'\n",
        ")\n",
        "\n",
        "# Gradient Boosting Regressor with hyperparameter tuning\n",
        "model = GradientBoostingRegressor(random_state=42)\n",
        "param_grid = {\n",
        "    'model__n_estimators': [50, 100, 150],\n",
        "    'model__max_depth': [3, 5, 7],\n",
        "    'model__learning_rate': [0.01, 0.1, 0.2]\n",
        "}\n",
        "\n",
        "pipeline = Pipeline([\n",
        "    ('preprocessor', preprocessor),\n",
        "    ('model', model)\n",
        "])\n",
        "\n",
        "grid_search = GridSearchCV(pipeline, param_grid, cv=3, scoring='r2', n_jobs=-1, verbose=1)\n",
        "\n",
        "# Train the model with grid search\n",
        "grid_search.fit(X_train, y_train)\n",
        "\n",
        "# Best model from grid search\n",
        "best_model = grid_search.best_estimator_\n",
        "\n",
        "# Make predictions\n",
        "y_pred = best_model.predict(X_test)\n",
        "\n",
        "# Evaluate the model\n",
        "mae = mean_absolute_error(y_test, y_pred)\n",
        "r2 = r2_score(y_test, y_pred)\n",
        "\n",
        "# Print results\n",
        "print(\"Best Parameters:\", grid_search.best_params_)\n",
        "print(\"Mean Absolute Error (MAE):\", mae)\n",
        "print(\"R^2 Score:\", r2)\n",
        "\n",
        "# Visualization: Predictions vs Actual\n",
        "plt.figure(figsize=(10, 6))\n",
        "plt.scatter(y_test, y_pred, alpha=0.7, color='b')\n",
        "plt.plot([y_test.min(), y_test.max()], [y_test.min(), y_test.max()], 'r--', lw=2)\n",
        "plt.xlabel('Actual Audience Rating')\n",
        "plt.ylabel('Predicted Audience Rating')\n",
        "plt.title('Actual vs Predicted Audience Ratings')\n",
        "plt.show()"
      ],
      "metadata": {
        "id": "Af1krCQv8yzX",
        "colab": {
          "base_uri": "https://localhost:8080/",
          "height": 106
        },
        "outputId": "0764d211-815c-4687-edad-2d6186f1ec2d"
      },
      "execution_count": null,
      "outputs": [
        {
          "output_type": "error",
          "ename": "SyntaxError",
          "evalue": "(unicode error) 'unicodeescape' codec can't decode bytes in position 2-3: truncated \\UXXXXXXXX escape (<ipython-input-20-314e847feb7c>, line 11)",
          "traceback": [
            "\u001b[0;36m  File \u001b[0;32m\"<ipython-input-20-314e847feb7c>\"\u001b[0;36m, line \u001b[0;32m11\u001b[0m\n\u001b[0;31m    data_path =\"C:\\Users\\bharg\\Downloads\\Rotten_Tomatoes_Movies3 (1).xlsx\"\u001b[0m\n\u001b[0m                                                                          ^\u001b[0m\n\u001b[0;31mSyntaxError\u001b[0m\u001b[0;31m:\u001b[0m (unicode error) 'unicodeescape' codec can't decode bytes in position 2-3: truncated \\UXXXXXXXX escape\n"
          ]
        }
      ]
    }
  ]
}